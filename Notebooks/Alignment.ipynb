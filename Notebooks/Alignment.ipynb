{
 "cells": [
  {
   "cell_type": "code",
   "execution_count": 1,
   "metadata": {},
   "outputs": [],
   "source": [
    "def Menu():\n",
    "    print(\"\"\"Select an option\n",
    "         [R] = Enter name of a PDB file \n",
    "         [S] = Search for PDB files\n",
    "         [W] = Write out PDB files (PDB files in existence) \n",
    "         [I] = Information on PDB files\n",
    "         [A] = Alignment\n",
    "         [H] = Help\n",
    "         [Q] = Quit           \n",
    "         \"\"\")\n",
    "    globals()['option'] = input()"
   ]
  },
  {
   "cell_type": "code",
   "execution_count": 2,
   "metadata": {},
   "outputs": [
    {
     "name": "stdout",
     "output_type": "stream",
     "text": [
      "Select an option\n",
      "         [R] = Enter name of a PDB file \n",
      "         [S] = Search for PDB files\n",
      "         [W] = Write out PDB files (PDB files in existence) \n",
      "         [I] = Information on PDB files\n",
      "         [A] = Alignment\n",
      "         [H] = Help\n",
      "         [Q] = Quit           \n",
      "         \n"
     ]
    },
    {
     "name": "stdin",
     "output_type": "stream",
     "text": [
      " a\n"
     ]
    }
   ],
   "source": [
    "Menu()"
   ]
  },
  {
   "cell_type": "code",
   "execution_count": 3,
   "metadata": {},
   "outputs": [],
   "source": [
    "def pdbfile_list():\n",
    "    \"\"\" This function finds all loaded files in the appropriate folder. \"\"\"\n",
    "    import glob, os\n",
    "    os.chdir(\"../Data\")\n",
    "    file_list = []\n",
    "    for file in glob.glob(\"*.pdb\"):\n",
    "        file_list.append(file)\n",
    "    return file_list"
   ]
  },
  {
   "cell_type": "code",
   "execution_count": 4,
   "metadata": {},
   "outputs": [],
   "source": [
    "def extract_SEQRES_seq():\n",
    "    \"\"\" This function extracts seqres sequences in a pdb file. \"\"\"\n",
    "    \n",
    "    import os\n",
    "    choice = input('Enter the name of the file: ')\n",
    "    filepath = os.path.join('/home/njesh/python-mini-project-JaneNjeri/Data', choice)\n",
    "    with open(filepath,'r') as file:\n",
    "        seq_list = []\n",
    "        for line in file:\n",
    "            if line[:6] == 'SEQRES':\n",
    "                line_split = line.split()[4:]\n",
    "                seq_list.append(line_split)\n",
    "    choice1 = input('Enter name of the outfile, to keep sequences for alignment: ')            \n",
    "    filepath1 = os.path.join('/home/njesh/python-mini-project-JaneNjeri/Results', choice1)\n",
    "    with open(filepath1, 'w') as outfile:\n",
    "        for i in seq_list:\n",
    "            outfile.writelines(i)\n",
    "        print('Sequences successfully written!')"
   ]
  },
  {
   "cell_type": "code",
   "execution_count": 5,
   "metadata": {},
   "outputs": [],
   "source": [
    "def Align_2pdb_files():\n",
    "    import os\n",
    "    import sys\n",
    "    pdbfile_list()\n",
    "    \n",
    "    if option.upper() in ('R','S','W','I','A','H','Q'):\n",
    "        if option.upper() == 'A':\n",
    "\n",
    "            file_list = pdbfile_list()\n",
    "    \n",
    "            items = os.listdir('/home/njesh/python-mini-project-JaneNjeri/Data/')\n",
    "    \n",
    "            file_list = [name for name in items if name.endswith('.pdb')]\n",
    "\n",
    "            for count, fileName in enumerate(file_list, 0):\n",
    "                sys.stdout.write('[%d] %s\\n\\r' % (count, fileName))\n",
    "\n",
    "            choice = int(input('Select the first pdb file[0-%s]: ' % count))\n",
    "            print(file_list[choice])\n",
    "            choice2 = int(input('Select the second pdb file[0-%s]: ' % count))\n",
    "            print(file_list[choice2])\n",
    "            \n",
    "            #extracting seqres sequences\n",
    "            print('Please enter the names of the files, starting with the first one.')\n",
    "            with open(choice, 'r') as file:\n",
    "                extract_SEQRES_seq()\n",
    "\n",
    "            with open(choice2, 'r') as file2:\n",
    "                extract_SEQRES_seq()\n",
    "            \n",
    "            #building global alignment\n",
    "            from Bio import pairwise2\n",
    "            from Bio.pairwise2 import format_alignment\n",
    "            \n",
    "            choice = input('Enter the name of the first outfile with the extracted sequences: ')\n",
    "            filepath = os.path.join('/home/njesh/python-mini-project-JaneNjeri/Results', choice)\n",
    "            with open(filepath,'r') as file:\n",
    "                for line in file:\n",
    "                     X = line\n",
    "                    \n",
    "            choice2 = input('Enter the name of the second outfile with the extracted sequences: ')\n",
    "            filepath2 = os.path.join('/home/njesh/python-mini-project-JaneNjeri/Results', choice2)\n",
    "            with open(filepath2,'r') as file:\n",
    "                for line in file:\n",
    "                    Y = line\n",
    "                    \n",
    "            alignments = pairwise2.align.globalxx(X, Y)\n",
    "            for a in alignments:\n",
    "                print(format_alignment(*a))\n",
    "    Menu()"
   ]
  },
  {
   "cell_type": "code",
   "execution_count": 6,
   "metadata": {},
   "outputs": [
    {
     "name": "stdout",
     "output_type": "stream",
     "text": [
      "[0] 4kty.pdb\n",
      "[1] 1mgx.pdb\n",
      "[2] 1qcr.pdb\n",
      "[3] 4mh8.pdb\n",
      "[4] 3b3b.pdb\n",
      "[5] 3k6h.pdb\n",
      "[6] 1ql9.pdb\n",
      "[7] 1hab.pdb\n",
      "\r"
     ]
    },
    {
     "name": "stdin",
     "output_type": "stream",
     "text": [
      "Select the first pdb file[0-7]:  0\n"
     ]
    },
    {
     "name": "stdout",
     "output_type": "stream",
     "text": [
      "4kty.pdb\n"
     ]
    },
    {
     "name": "stdin",
     "output_type": "stream",
     "text": [
      "Select the second pdb file[0-7]:  1\n"
     ]
    },
    {
     "name": "stdout",
     "output_type": "stream",
     "text": [
      "1mgx.pdb\n",
      "Please enter the names of the files, starting with the first one.\n"
     ]
    },
    {
     "name": "stdin",
     "output_type": "stream",
     "text": [
      "Enter the name of the file:  4kty.pdb\n",
      "Enter name of the outfile, to keep sequences for alignment:  4kty_seqres.txt\n"
     ]
    },
    {
     "name": "stdout",
     "output_type": "stream",
     "text": [
      "Sequences successfully written!\n"
     ]
    },
    {
     "name": "stdin",
     "output_type": "stream",
     "text": [
      "Enter the name of the file:  1mgx.pdb\n",
      "Enter name of the outfile, to keep sequences for alignment:  1mgx_seqres.txt\n"
     ]
    },
    {
     "name": "stdout",
     "output_type": "stream",
     "text": [
      "Sequences successfully written!\n"
     ]
    },
    {
     "name": "stdin",
     "output_type": "stream",
     "text": [
      "Enter the name of the first outfile with the extracted sequences:  4kty_seqres.txt\n"
     ]
    },
    {
     "ename": "NameError",
     "evalue": "name 'X' is not defined",
     "output_type": "error",
     "traceback": [
      "\u001b[0;31m---------------------------------------------------------------------------\u001b[0m",
      "\u001b[0;31mNameError\u001b[0m                                 Traceback (most recent call last)",
      "\u001b[0;32m<ipython-input-6-735c0daa0ce1>\u001b[0m in \u001b[0;36m<module>\u001b[0;34m\u001b[0m\n\u001b[0;32m----> 1\u001b[0;31m \u001b[0mAlign_2pdb_files\u001b[0m\u001b[0;34m(\u001b[0m\u001b[0;34m)\u001b[0m\u001b[0;34m\u001b[0m\u001b[0;34m\u001b[0m\u001b[0m\n\u001b[0m",
      "\u001b[0;32m<ipython-input-5-6fe24806fd82>\u001b[0m in \u001b[0;36mAlign_2pdb_files\u001b[0;34m()\u001b[0m\n\u001b[1;32m     37\u001b[0m             \u001b[0;32mwith\u001b[0m \u001b[0mopen\u001b[0m\u001b[0;34m(\u001b[0m\u001b[0mfilepath\u001b[0m\u001b[0;34m,\u001b[0m\u001b[0;34m'r'\u001b[0m\u001b[0;34m)\u001b[0m \u001b[0;32mas\u001b[0m \u001b[0mfile\u001b[0m\u001b[0;34m:\u001b[0m\u001b[0;34m\u001b[0m\u001b[0;34m\u001b[0m\u001b[0m\n\u001b[1;32m     38\u001b[0m                 \u001b[0;32mfor\u001b[0m \u001b[0mline\u001b[0m \u001b[0;32min\u001b[0m \u001b[0mfile\u001b[0m\u001b[0;34m:\u001b[0m\u001b[0;34m\u001b[0m\u001b[0;34m\u001b[0m\u001b[0m\n\u001b[0;32m---> 39\u001b[0;31m                     \u001b[0mline\u001b[0m \u001b[0;34m=\u001b[0m \u001b[0mX\u001b[0m\u001b[0;34m\u001b[0m\u001b[0;34m\u001b[0m\u001b[0m\n\u001b[0m\u001b[1;32m     40\u001b[0m \u001b[0;34m\u001b[0m\u001b[0m\n\u001b[1;32m     41\u001b[0m                     \u001b[0mchoice2\u001b[0m \u001b[0;34m=\u001b[0m \u001b[0minput\u001b[0m\u001b[0;34m(\u001b[0m\u001b[0;34m'Enter the name of the second outfile with the extracted sequences: '\u001b[0m\u001b[0;34m)\u001b[0m\u001b[0;34m\u001b[0m\u001b[0;34m\u001b[0m\u001b[0m\n",
      "\u001b[0;31mNameError\u001b[0m: name 'X' is not defined"
     ]
    }
   ],
   "source": [
    "Align_2pdb_files()"
   ]
  },
  {
   "cell_type": "code",
   "execution_count": null,
   "metadata": {},
   "outputs": [],
   "source": [
    "# Import pairwise2 module\n",
    "from Bio import pairwise2\n",
    "\n",
    "# Import format_alignment method\n",
    "from Bio.pairwise2 import format_alignment\n",
    "\n",
    "# Define two sequences to be aligned\n",
    "X = \"ACGGGT\"\n",
    "Y = \"ACG\"\n",
    "\n",
    "# Get a list of the global alignments between the two sequences ACGGGT and ACG\n",
    "# No parameters. Identical characters have score of 1, else 0.\n",
    "# No gap penalties.\n",
    "alignments = pairwise2.align.globalxx(X, Y)\n",
    "\n",
    "# Use format_alignment method to format the alignments in the list\n",
    "for a in alignments:\n",
    "    print(format_alignment(*a))"
   ]
  },
  {
   "cell_type": "code",
   "execution_count": 15,
   "metadata": {},
   "outputs": [
    {
     "name": "stdout",
     "output_type": "stream",
     "text": [
      "ACGGGT\n",
      "||  | \n",
      "AC--G-\n",
      "  Score=3\n",
      "\n",
      "ACGGGT\n",
      "|| |  \n",
      "AC-G--\n",
      "  Score=3\n",
      "\n",
      "ACGGGT\n",
      "|||   \n",
      "ACG---\n",
      "  Score=3\n",
      "\n"
     ]
    }
   ],
   "source": [
    "from Bio import pairwise2\n",
    "from Bio.pairwise2 import format_alignment\n",
    "X = \"ACGGGT\"\n",
    "Y = \"ACG\"\n",
    "alignments = pairwise2.align.globalxx(X, Y)\n",
    "for a in alignments:\n",
    "    print(format_alignment(*a))"
   ]
  },
  {
   "cell_type": "code",
   "execution_count": null,
   "metadata": {},
   "outputs": [],
   "source": []
  }
 ],
 "metadata": {
  "kernelspec": {
   "display_name": "Python 3",
   "language": "python",
   "name": "python3"
  },
  "language_info": {
   "codemirror_mode": {
    "name": "ipython",
    "version": 3
   },
   "file_extension": ".py",
   "mimetype": "text/x-python",
   "name": "python",
   "nbconvert_exporter": "python",
   "pygments_lexer": "ipython3",
   "version": "3.7.4"
  }
 },
 "nbformat": 4,
 "nbformat_minor": 4
}
