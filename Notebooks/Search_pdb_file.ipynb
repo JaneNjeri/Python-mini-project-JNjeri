{
 "cells": [
  {
   "cell_type": "code",
   "execution_count": null,
   "metadata": {},
   "outputs": [],
   "source": [
    "def Search_pdb():\n",
    "    import os\n",
    "    import sys\n",
    "    pdbfile_list()\n",
    "    \n",
    "    if option.upper() in ('R','S','W','I','A','H','Q'):\n",
    "        if option.upper() == 'S':\n",
    "\n",
    "            file_list = pdbfile_list()\n",
    "    \n",
    "            items = os.listdir('/home/njesh/python-mini-project-JaneNjeri/PDB_files/')\n",
    "    \n",
    "            file_list = [name for name in items if name.endswith('.pdb')]\n",
    "\n",
    "            for count, fileName in enumerate(file_list, 0):\n",
    "                sys.stdout.write(\"[%d] %s\\n\\r\" % (count, fileName))\n",
    "\n",
    "            choice = int(input(\"Select pdb file[0-%s]: \" % count))\n",
    "            print(file_list[choice])\n",
    "            \n",
    "            choice = infile\n",
    "            with open(infile, 'r') as file:\n",
    "                outfile = os.path.join('/home/njesh/python-mini-project-JaneNjeri/Results', outfile)\n",
    "                Get_seqres(infile,outfile)\n",
    "                print(check_glycSites(outfile))\n",
    "    Menu(infile)\n",
    "\n",
    "#             keyword = input('Input a keyword of contents in the file: ') #can use HEADER, common for all pdb files\n",
    "#             with open(fileName,'rb') as f:\n",
    "#                 try:\n",
    "#                     for line in f:\n",
    "#                         try:\n",
    "#                             line = line.decode('utf-8')\n",
    "#                         except ValueError:\n",
    "#                             continue\n",
    "#                         if keyword in line:\n",
    "#                             print(keyword)\n",
    "#                             print('File is read.')\n",
    "#                             break\n",
    "#                         else:\n",
    "#                             print('Enter a valid keyword')\n",
    "#                             break\n",
    "#                 except (IOError, OSError):\n",
    "#                     pass\n",
    "                \n",
    "#             Get_seqres(infile,outfile)\n",
    "            \n",
    "#             check_glycSites(outfile)"
   ]
  },
  {
   "cell_type": "code",
   "execution_count": 1,
   "metadata": {},
   "outputs": [],
   "source": [
    "def Get_seqres(infile, outfile):\n",
    "    \"\"\" This function extracts seqres sequences in a pdb file and outputs it to a text file. \"\"\"\n",
    "    import os\n",
    "    with open(infile,'r') as file:\n",
    "        seq_list = []\n",
    "        for line in file:\n",
    "            if line.startswith('SEQRES'):\n",
    "                line_split = line.split()[4:]\n",
    "                seq_list.append(line_split)\n",
    "    filepath = os.path.join('/home/njesh/python-mini-project-JaneNjeri/Results', outfile)\n",
    "    with open(filepath, 'w') as outfile:\n",
    "        for i in seq_list:\n",
    "            outfile.writelines(i)\n",
    "        print('Sequences successfully written!')\n",
    "    return i"
   ]
  },
  {
   "cell_type": "code",
   "execution_count": 2,
   "metadata": {},
   "outputs": [
    {
     "name": "stdout",
     "output_type": "stream",
     "text": [
      "Sequences successfully written!\n"
     ]
    },
    {
     "data": {
      "text/plain": [
       "['ACY', 'DAS', '1TX', 'ABA', 'NLE', 'LEU', 'PRO', 'TRP', 'PRO']"
      ]
     },
     "execution_count": 2,
     "metadata": {},
     "output_type": "execute_result"
    }
   ],
   "source": [
    "Get_seqres('4kty.pdb', '4kty_seq.txt')"
   ]
  },
  {
   "cell_type": "code",
   "execution_count": 43,
   "metadata": {},
   "outputs": [],
   "source": [
    "import re\n",
    "def glyc_sites(aa_seq):\n",
    "    \"\"\" This function finds glycosylation sites given G or Y or L then A then P or F or W the TLVGMI as motifs\n",
    "    given an amino acid sequence. \"\"\"\n",
    "    \n",
    "    pattern = re.compile(r'[GYL]A[PFW][TLVGMI]')\n",
    "    matches = pattern.finditer(aa_seq)\n",
    "    for match in matches:\n",
    "        print(match)\n",
    "        \n",
    "    return aa_seq"
   ]
  },
  {
   "cell_type": "code",
   "execution_count": 48,
   "metadata": {},
   "outputs": [],
   "source": [
    "def check_glycSites(infile):\n",
    "    \"\"\" This function checks the glycosylation sites of a protein sequence in a given file. \"\"\"\n",
    "    \n",
    "    with open(infile, 'r') as myfile:\n",
    "        for i in myfile:\n",
    "            glyc_sites(i)\n",
    "            print(i)"
   ]
  },
  {
   "cell_type": "code",
   "execution_count": 62,
   "metadata": {},
   "outputs": [
    {
     "name": "stdout",
     "output_type": "stream",
     "text": [
      "<re.Match object; span=(15, 19), match='GAPT'>\n",
      "<re.Match object; span=(36, 40), match='YAPT'>\n",
      "<re.Match object; span=(57, 61), match='LAPT'>\n",
      "<re.Match object; span=(66, 70), match='YAFT'>\n",
      "<re.Match object; span=(79, 83), match='GAWG'>\n",
      "TRIMDYIIYRFLLIFGAPTMALFVLTKAYPFLQNYGYAPTLNIPITGSMDTVYSNSTLAPTREEIFYAFTLTSTLCLYYGAWGP\n",
      "\n"
     ]
    }
   ],
   "source": [
    "check_glycSites('test.txt')"
   ]
  },
  {
   "cell_type": "code",
   "execution_count": null,
   "metadata": {},
   "outputs": [],
   "source": []
  }
 ],
 "metadata": {
  "kernelspec": {
   "display_name": "Python 3",
   "language": "python",
   "name": "python3"
  },
  "language_info": {
   "codemirror_mode": {
    "name": "ipython",
    "version": 3
   },
   "file_extension": ".py",
   "mimetype": "text/x-python",
   "name": "python",
   "nbconvert_exporter": "python",
   "pygments_lexer": "ipython3",
   "version": "3.7.4"
  }
 },
 "nbformat": 4,
 "nbformat_minor": 4
}
