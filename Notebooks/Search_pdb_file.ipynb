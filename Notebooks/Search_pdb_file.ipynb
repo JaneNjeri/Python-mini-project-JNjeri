{
 "cells": [
  {
   "cell_type": "code",
   "execution_count": null,
   "metadata": {},
   "outputs": [],
   "source": [
    "def Search_pdb():\n",
    "    import os\n",
    "    import sys\n",
    "    pdbfile_list()\n",
    "    \n",
    "    if option.upper() in ('R','S','W','I','A','H','Q'):\n",
    "        if option.upper() == 'S':\n",
    "\n",
    "            file_list = pdbfile_list()\n",
    "    \n",
    "            items = os.listdir('/home/njesh/python-mini-project-JaneNjeri/Data/')\n",
    "    \n",
    "            file_list = [name for name in items if name.endswith('.pdb')]\n",
    "\n",
    "            for count, fileName in enumerate(file_list, 0):\n",
    "                sys.stdout.write(\"[%d] %s\\n\\r\" % (count, fileName))\n",
    "\n",
    "            choice = int(input(\"Select pdb file[0-%s]: \" % count))\n",
    "            print(file_list[choice])\n",
    "            \n",
    "            choice = infile\n",
    "            with open(infile, 'r') as file:\n",
    "                Get_seqres()\n",
    "                file = Get_seqres\n",
    "\n",
    "            with open(file, 'r') as aa_seq:\n",
    "                check_glycSites()\n",
    "    Menu()"
   ]
  },
  {
   "cell_type": "code",
   "execution_count": 1,
   "metadata": {},
   "outputs": [],
   "source": [
    "import os\n",
    "def Get_seqres():\n",
    "    \"\"\" This function extracts seqres sequences in a pdb file and outputs it to a text file. \"\"\"\n",
    "    \n",
    "    choice = input('Enter the name of the file: ')\n",
    "    filepath = os.path.join('/home/njesh/python-mini-project-JaneNjeri/Data', choice)\n",
    "    seq_list = []\n",
    "    with open(filepath,'r') as file:\n",
    "        for line in file:\n",
    "            if line.startswith('SEQRES'):\n",
    "                line_split = line.split()[4]\n",
    "                seq_list.append(line_split)\n",
    "    \n",
    "    choice1 = input('Enter the name of the outfile: ')\n",
    "    filepath1 = os.path.join('/home/njesh/python-mini-project-JaneNjeri/Results', choice1)\n",
    "    with open(filepath1, 'w') as outfile:\n",
    "        for i in seq_list:\n",
    "            outfile.write(i)\n",
    "        print('Sequences successfully written!')"
   ]
  },
  {
   "cell_type": "code",
   "execution_count": 2,
   "metadata": {},
   "outputs": [
    {
     "name": "stdout",
     "output_type": "stream",
     "text": [
      "Sequences successfully written!\n"
     ]
    },
    {
     "data": {
      "text/plain": [
       "['ACY', 'DAS', '1TX', 'ABA', 'NLE', 'LEU', 'PRO', 'TRP', 'PRO']"
      ]
     },
     "execution_count": 2,
     "metadata": {},
     "output_type": "execute_result"
    }
   ],
   "source": [
    "Get_seqres('4kty.pdb', '4kty_seq.txt')"
   ]
  },
  {
   "cell_type": "code",
   "execution_count": 43,
   "metadata": {},
   "outputs": [],
   "source": [
    "import re\n",
    "import os\n",
    "def glyc_sites():\n",
    "    \n",
    "    \"\"\" This function finds glycosylation sites given G or Y or L then A then P or F or W the TLVGMI as motifs\n",
    "    given an amino acid sequence file. \"\"\"\n",
    "    \n",
    "    choice = input('Enter the name of the file: ')\n",
    "    filepath = os.path.join('/home/njesh/python-mini-project-JaneNjeri/Data', choice)\n",
    "    with open(filepath, 'r') as file:\n",
    "        for i in file:\n",
    "            pattern = re.compile(r'[GYL]A[PFW][TLVGMI]')\n",
    "            matches = pattern.finditer(i)\n",
    "            for match in matches:\n",
    "                print(match)\n",
    "        \n",
    "    return i"
   ]
  },
  {
   "cell_type": "code",
   "execution_count": 48,
   "metadata": {},
   "outputs": [],
   "source": [
    "import os\n",
    "def check_glycSites():\n",
    "    \"\"\" This function checks the glycosylation sites of a protein sequence in a given file. \"\"\"\n",
    "    \n",
    "    choice = input('Enter the name of the file: ')\n",
    "    filepath = os.path.join('/home/njesh/python-mini-project-JaneNjeri/Data', choice)\n",
    "    with open(filepath, 'r') as myfile:\n",
    "        for i in myfile:\n",
    "            glyc_sites(i)"
   ]
  },
  {
   "cell_type": "code",
   "execution_count": 62,
   "metadata": {},
   "outputs": [
    {
     "name": "stdout",
     "output_type": "stream",
     "text": [
      "<re.Match object; span=(15, 19), match='GAPT'>\n",
      "<re.Match object; span=(36, 40), match='YAPT'>\n",
      "<re.Match object; span=(57, 61), match='LAPT'>\n",
      "<re.Match object; span=(66, 70), match='YAFT'>\n",
      "<re.Match object; span=(79, 83), match='GAWG'>\n",
      "TRIMDYIIYRFLLIFGAPTMALFVLTKAYPFLQNYGYAPTLNIPITGSMDTVYSNSTLAPTREEIFYAFTLTSTLCLYYGAWGP\n",
      "\n"
     ]
    }
   ],
   "source": [
    "check_glycSites('test.txt')"
   ]
  },
  {
   "cell_type": "code",
   "execution_count": null,
   "metadata": {},
   "outputs": [],
   "source": []
  }
 ],
 "metadata": {
  "kernelspec": {
   "display_name": "Python 3",
   "language": "python",
   "name": "python3"
  },
  "language_info": {
   "codemirror_mode": {
    "name": "ipython",
    "version": 3
   },
   "file_extension": ".py",
   "mimetype": "text/x-python",
   "name": "python",
   "nbconvert_exporter": "python",
   "pygments_lexer": "ipython3",
   "version": "3.7.4"
  }
 },
 "nbformat": 4,
 "nbformat_minor": 4
}
