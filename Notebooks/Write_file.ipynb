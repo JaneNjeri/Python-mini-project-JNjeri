{
 "cells": [
  {
   "cell_type": "code",
   "execution_count": null,
   "metadata": {},
   "outputs": [],
   "source": [
    "def Write_file():\n",
    "    \"\"\" Writes out different portions of PDB files, including atomic coordinates and\n",
    "        protein sequences in fasta format.\n",
    "    \"\"\"\n",
    "    \n",
    "    import os\n",
    "    import sys\n",
    "    pdbfile_list()\n",
    "\n",
    "    file_list = pdbfile_list()\n",
    "    \n",
    "    items = os.listdir('/home/njesh/python-mini-project-JaneNjeri/Data/')\n",
    "    \n",
    "    file_list = [name for name in items if name.endswith('.pdb')]\n",
    "\n",
    "    for count, fileName in enumerate(file_list, 0):\n",
    "        sys.stdout.write(\"[%d] %s\\n\\r\" % (count, fileName))\n",
    "\n",
    "    choice = int(input(\"Select pdb file[0-%s]: \" % count))\n",
    "    print(file_list[choice])\n",
    "            \n",
    "    return choice\n",
    "    choice = infile\n",
    "    mainmenu()\n",
    "    \n",
    "    Mainmenu()"
   ]
  },
  {
   "cell_type": "code",
   "execution_count": 12,
   "metadata": {},
   "outputs": [],
   "source": [
    "def submenu1():\n",
    "    p = ''\n",
    "    while p == '':\n",
    "        print('\\nS U B  M E N U 1')\n",
    "        print('1. All atom')\n",
    "        print('2. Backbone atoms')\n",
    "        print('3. Alpha carbon atoms only')\n",
    "        print('b. Back')\n",
    "        print('q. Quit')\n",
    "        option = input('Select an option: ')\n",
    "        if option.lower() == 'q':\n",
    "            sys.exit()\n",
    "        elif option.lower() == 'b':\n",
    "            return mainmenu()\n",
    "        elif option == '1':\n",
    "            p = coord_atoms()\n",
    "        elif option == '2':\n",
    "            p = write_backbone_atoms()\n",
    "        elif option == '3':\n",
    "            p = write_CA_atoms()\n",
    "        else:\n",
    "            print ('Invalid selection!')\n",
    "    return p\n",
    "\n",
    "def submenu2():\n",
    "    j = ''\n",
    "    while j == '':\n",
    "        print('\\nS U B  M E N U 2')\n",
    "        print('1. SEQRES sequence')\n",
    "        print('2. Coordinate sequence')\n",
    "        print('3. Alignment sequence')\n",
    "        print('b. Back')\n",
    "        print('q. Quit')\n",
    "        option = input('Select an option: ')\n",
    "        if option.lower() == 'q':\n",
    "            sys.exit()\n",
    "        elif option.lower() == 'b':\n",
    "            return mainmenu()\n",
    "        elif option == '1':\n",
    "            j = write_SEQRES_fasta()\n",
    "        elif option == '2':\n",
    "            j = write_coord_seq()\n",
    "        elif option == '3':\n",
    "            j = write_align_seq()\n",
    "        else:\n",
    "            print ('Invalid selection!')\n",
    "    return j"
   ]
  },
  {
   "cell_type": "code",
   "execution_count": 34,
   "metadata": {},
   "outputs": [
    {
     "name": "stdout",
     "output_type": "stream",
     "text": [
      "\n",
      "M A I N   M E N U\n",
      "1. Write out coordinate file\n",
      "2. Write out sequence(Fasta format)\n",
      "q. Quit\n"
     ]
    },
    {
     "name": "stdin",
     "output_type": "stream",
     "text": [
      "Select an option:  1\n"
     ]
    },
    {
     "ename": "NameError",
     "evalue": "name 'submenu1' is not defined",
     "output_type": "error",
     "traceback": [
      "\u001b[0;31m---------------------------------------------------------------------------\u001b[0m",
      "\u001b[0;31mNameError\u001b[0m                                 Traceback (most recent call last)",
      "\u001b[0;32m<ipython-input-34-7ec96cf517a3>\u001b[0m in \u001b[0;36m<module>\u001b[0;34m\u001b[0m\n\u001b[1;32m     21\u001b[0m     \u001b[0;32mreturn\u001b[0m \u001b[0mmsg\u001b[0m\u001b[0;34m,\u001b[0m \u001b[0md\u001b[0m\u001b[0;34m\u001b[0m\u001b[0;34m\u001b[0m\u001b[0m\n\u001b[1;32m     22\u001b[0m \u001b[0;34m\u001b[0m\u001b[0m\n\u001b[0;32m---> 23\u001b[0;31m \u001b[0mmessage\u001b[0m\u001b[0;34m,\u001b[0m \u001b[0maction\u001b[0m \u001b[0;34m=\u001b[0m \u001b[0mmainmenu\u001b[0m\u001b[0;34m(\u001b[0m\u001b[0;34m)\u001b[0m\u001b[0;34m\u001b[0m\u001b[0;34m\u001b[0m\u001b[0m\n\u001b[0m\u001b[1;32m     24\u001b[0m \u001b[0;34m\u001b[0m\u001b[0m\n\u001b[1;32m     25\u001b[0m \u001b[0mprint\u001b[0m \u001b[0;34m(\u001b[0m\u001b[0;34m'\\nMessage: '\u001b[0m\u001b[0;34m,\u001b[0m \u001b[0mmessage\u001b[0m\u001b[0;34m)\u001b[0m\u001b[0;34m\u001b[0m\u001b[0;34m\u001b[0m\u001b[0m\n",
      "\u001b[0;32m<ipython-input-34-7ec96cf517a3>\u001b[0m in \u001b[0;36mmainmenu\u001b[0;34m()\u001b[0m\n\u001b[1;32m     13\u001b[0m         \u001b[0;32melif\u001b[0m \u001b[0moption\u001b[0m \u001b[0;34m==\u001b[0m \u001b[0;34m'1'\u001b[0m\u001b[0;34m:\u001b[0m\u001b[0;34m\u001b[0m\u001b[0;34m\u001b[0m\u001b[0m\n\u001b[1;32m     14\u001b[0m             \u001b[0mmsg\u001b[0m \u001b[0;34m=\u001b[0m \u001b[0;34m'Option 1'\u001b[0m\u001b[0;34m\u001b[0m\u001b[0;34m\u001b[0m\u001b[0m\n\u001b[0;32m---> 15\u001b[0;31m             \u001b[0md\u001b[0m \u001b[0;34m=\u001b[0m \u001b[0msubmenu1\u001b[0m\u001b[0;34m(\u001b[0m\u001b[0;34m)\u001b[0m\u001b[0;34m\u001b[0m\u001b[0;34m\u001b[0m\u001b[0m\n\u001b[0m\u001b[1;32m     16\u001b[0m         \u001b[0;32melif\u001b[0m \u001b[0moption\u001b[0m \u001b[0;34m==\u001b[0m \u001b[0;34m'2'\u001b[0m\u001b[0;34m:\u001b[0m\u001b[0;34m\u001b[0m\u001b[0;34m\u001b[0m\u001b[0m\n\u001b[1;32m     17\u001b[0m             \u001b[0mmsg\u001b[0m \u001b[0;34m=\u001b[0m \u001b[0;34m'Option 2'\u001b[0m\u001b[0;34m\u001b[0m\u001b[0;34m\u001b[0m\u001b[0m\n",
      "\u001b[0;31mNameError\u001b[0m: name 'submenu1' is not defined"
     ]
    }
   ],
   "source": [
    "def mainmenu():\n",
    "    import sys\n",
    "    d = ''\n",
    "    msg = ''    \n",
    "    while d == '':\n",
    "        print('\\nM A I N   M E N U')\n",
    "        print('1. Write out coordinate file')\n",
    "        print('2. Write out sequence(Fasta format)')\n",
    "        print('q. Quit')\n",
    "        option = input('Select an option: ')\n",
    "        if option.lower() == 'q':\n",
    "            sys.exit()\n",
    "        elif option == '1':\n",
    "            msg = 'Option 1'\n",
    "            d = submenu1()\n",
    "        elif option == '2':\n",
    "            msg = 'Option 2'\n",
    "            d = submenu2()\n",
    "        else:\n",
    "            print ('Invalid selection!')\n",
    "    return msg, d    \n",
    "\n",
    "message, action = mainmenu()\n",
    "\n",
    "print ('\\nMessage: ', message)\n",
    "print ('Action: ', action)"
   ]
  },
  {
   "cell_type": "code",
   "execution_count": 8,
   "metadata": {},
   "outputs": [],
   "source": [
    "def write_all_atoms():\n",
    "    import os\n",
    "    choice = input('Enter the name of the file: ')\n",
    "    filepath = os.path.join('/home/njesh/python-mini-project-JaneNjeri/Data', choice)\n",
    "    atoms_list = []\n",
    "    with open(filepath, 'r') as file:\n",
    "        for line in file:\n",
    "            if line.startswith('ATOM'):\n",
    "                atoms_list.append(line)\n",
    "    choice1 = input('Enter the name of the outfile: ')\n",
    "    filepath1 = os.path.join('/home/njesh/python-mini-project-JaneNjeri/Results', choice1)\n",
    "    with open(filepath1, 'w') as outfile:\n",
    "        for i in atoms_list:\n",
    "            outfile.writelines(i)\n",
    "        print('Done!')"
   ]
  },
  {
   "cell_type": "code",
   "execution_count": 9,
   "metadata": {},
   "outputs": [
    {
     "name": "stdin",
     "output_type": "stream",
     "text": [
      "Enter the name of the outfile:  3b3b_all_atoms.txt\n"
     ]
    },
    {
     "name": "stdout",
     "output_type": "stream",
     "text": [
      "Done!\n"
     ]
    }
   ],
   "source": [
    "write_all_atoms('3b3b.pdb')"
   ]
  },
  {
   "cell_type": "code",
   "execution_count": 3,
   "metadata": {},
   "outputs": [],
   "source": [
    "def coord_atoms():\n",
    "    import os\n",
    "    choice = input('Enter the name of the file: ')\n",
    "    filepath = os.path.join('/home/njesh/python-mini-project-JaneNjeri/Data', choice)\n",
    "    a_list = []\n",
    "    with open(filepath, 'r') as pdb:\n",
    "        for line in pdb:\n",
    "            if line[:4] == 'ATOM':\n",
    "                line_split = line.split()[6:9]\n",
    "                a_list.append(line_split)    \n",
    "    choice1 = input('Enter the name of the outfile: ')\n",
    "    filepath1 = os.path.join('/home/njesh/python-mini-project-JaneNjeri/Results', choice1)\n",
    "    with open(filepath1, 'w') as outfile:\n",
    "        for i in a_list:\n",
    "            outfile.writelines(i)\n",
    "        print('Done!') "
   ]
  },
  {
   "cell_type": "code",
   "execution_count": 4,
   "metadata": {},
   "outputs": [
    {
     "name": "stdin",
     "output_type": "stream",
     "text": [
      "Enter the name of the outfile:  3b3b_all_coord_atoms.txt\n"
     ]
    },
    {
     "name": "stdout",
     "output_type": "stream",
     "text": [
      "Done!\n"
     ]
    }
   ],
   "source": [
    "coord_atoms('3b3b.pdb')"
   ]
  },
  {
   "cell_type": "code",
   "execution_count": 27,
   "metadata": {},
   "outputs": [
    {
     "ename": "SyntaxError",
     "evalue": "unexpected EOF while parsing (<ipython-input-27-1e4e4808c8a1>, line 5)",
     "output_type": "error",
     "traceback": [
      "\u001b[0;36m  File \u001b[0;32m\"<ipython-input-27-1e4e4808c8a1>\"\u001b[0;36m, line \u001b[0;32m5\u001b[0m\n\u001b[0;31m    print(line_split\u001b[0m\n\u001b[0m                    ^\u001b[0m\n\u001b[0;31mSyntaxError\u001b[0m\u001b[0;31m:\u001b[0m unexpected EOF while parsing\n"
     ]
    }
   ],
   "source": [
    "with open('1mgx.pdb') as file:\n",
    "    for line in file:\n",
    "        if line[:4] == 'ATOM':\n",
    "            line_split = line.split()[6:9]\n",
    "            print(line_split)"
   ]
  },
  {
   "cell_type": "code",
   "execution_count": 9,
   "metadata": {},
   "outputs": [],
   "source": [
    "def write_backbone_atoms():\n",
    "    import os\n",
    "    choice = input('Enter the name of the file: ')\n",
    "    filepath = os.path.join('/home/njesh/python-mini-project-JaneNjeri/Data', choice)\n",
    "    backbone_list = []\n",
    "    with open(filepath, 'r') as pdb:\n",
    "        for line in pdb:\n",
    "            if line[12:16] == \" CA \" and \" O \" and \" N \" and \" C \":\n",
    "                line_split = line.split()[6:9]\n",
    "                backbone_list.append(line_split)\n",
    "    choice1 = input('Enter the name of the outfile: ')\n",
    "    filepath1 = os.path.join('/home/njesh/python-mini-project-JaneNjeri/Results', choice1)\n",
    "    with open(filepath1, 'w') as outfile:\n",
    "        for i in backbone_list:\n",
    "            outfile.writelines(i)\n",
    "        print('Done!')"
   ]
  },
  {
   "cell_type": "code",
   "execution_count": 10,
   "metadata": {},
   "outputs": [
    {
     "name": "stdin",
     "output_type": "stream",
     "text": [
      "Enter the name of the outfile:  1mgx_backbone_atoms.txt\n"
     ]
    },
    {
     "name": "stdout",
     "output_type": "stream",
     "text": [
      "Done!\n"
     ]
    }
   ],
   "source": [
    "write_backbone_atoms('1mgx.pdb')"
   ]
  },
  {
   "cell_type": "code",
   "execution_count": 28,
   "metadata": {},
   "outputs": [],
   "source": [
    "def write_CA_atoms():\n",
    "    import os\n",
    "    choice = input('Enter the name of the file: ')\n",
    "    filepath = os.path.join('/home/njesh/python-mini-project-JaneNjeri/Data', choice)\n",
    "    ca_list = []\n",
    "    with open(filepath, 'r') as pdb:\n",
    "        for line in pdb:\n",
    "            if line[:4] == 'ATOM' and line[12:16] == \" CA \":\n",
    "                line_split = line.split()[6:9]\n",
    "                ca_list.append(line_split)\n",
    "    choice1 = input('Enter name of the outfile: ')\n",
    "    filepath1 = os.path.join('/home/njesh/python-mini-project-JaneNjeri/Results', choice1)\n",
    "    with open(filepath1, 'w') as outfile:\n",
    "        for i in ca_list:\n",
    "            outfile.writelines(i)\n",
    "        print('Done!')"
   ]
  },
  {
   "cell_type": "code",
   "execution_count": 29,
   "metadata": {},
   "outputs": [
    {
     "name": "stdin",
     "output_type": "stream",
     "text": [
      "Enter name of the outfile:  1qcr_CA_atoms.txt\n"
     ]
    },
    {
     "name": "stdout",
     "output_type": "stream",
     "text": [
      "Done!\n"
     ]
    }
   ],
   "source": [
    "write_CA_atoms('1qcr.pdb')"
   ]
  },
  {
   "cell_type": "code",
   "execution_count": 30,
   "metadata": {},
   "outputs": [],
   "source": [
    "def write_SEQRES_fasta():\n",
    "    \"\"\" This function extracts seqres sequences in a pdb file and outputs it to a fasta file. \"\"\"\n",
    "    \n",
    "    import os\n",
    "    choice = input('Enter the name of the file: ')\n",
    "    filepath = os.path.join('/home/njesh/python-mini-project-JaneNjeri/Data', choice)\n",
    "    with open(filepath,'r') as file:\n",
    "        seq_list = []\n",
    "        for line in file:\n",
    "            if line[:6] == 'SEQRES':\n",
    "                line_split = line.split()[4:]\n",
    "                seq_list.append(line_split)\n",
    "    choice1 = input('Enter name of the outfile: ')            \n",
    "    filepath1 = os.path.join('/home/njesh/python-mini-project-JaneNjeri/Results', choice1)\n",
    "    with open(filepath1, 'w') as outfile:\n",
    "        for i in seq_list:\n",
    "            outfile.writelines(i)\n",
    "        print('Sequences successfully written!')\n",
    "        \n",
    "    with open(choice, 'r') as myfile:\n",
    "        header = ''\n",
    "        for line in myfile:\n",
    "            if line.startswith(\"TITLE\"): \n",
    "                head_split = line.split()\n",
    "                header = header + ' '.join(head_split[1:])\n",
    "            \n",
    "    choice2 = input('Enter output file name with a .fasta extension: ')\n",
    "    filepath2 = os.path.join('/home/njesh/python-mini-project-JaneNjeri/Results', choice2)\n",
    "    z = os.path.join('/home/njesh/python-mini-project-JaneNjeri/Results', choice1)\n",
    "    with open(z, 'r') as file:\n",
    "        with open(filepath2, 'w') as output:\n",
    "            for i in file:\n",
    "                output.writelines('>' + header + '\\n' + i)\n",
    "        print('Fasta file generated!')"
   ]
  },
  {
   "cell_type": "code",
   "execution_count": 20,
   "metadata": {},
   "outputs": [
    {
     "name": "stdin",
     "output_type": "stream",
     "text": [
      "Enter name of the outfile:  3b3b_seqres.txt\n"
     ]
    },
    {
     "name": "stdout",
     "output_type": "stream",
     "text": [
      "Sequences successfully written!\n"
     ]
    },
    {
     "name": "stdin",
     "output_type": "stream",
     "text": [
      "Enter output file name with a .fasta extension:  3b3b.fasta\n"
     ]
    },
    {
     "name": "stdout",
     "output_type": "stream",
     "text": [
      "Fasta file generated!\n"
     ]
    }
   ],
   "source": [
    "write_SEQRES_fasta('3b3b.pdb')"
   ]
  },
  {
   "cell_type": "code",
   "execution_count": 21,
   "metadata": {},
   "outputs": [],
   "source": [
    "# import os\n",
    "# with open('3b3b.pdb', 'r') as myfile:\n",
    "#     header = ''\n",
    "#     for line in myfile:\n",
    "#         if line.startswith(\"TITLE\"): \n",
    "#             head_split = line.split()\n",
    "#             header = header + ' '.join(head_split[1:])\n",
    "            \n",
    "#     choice = input('Enter output file name with a .fasta extension: ')\n",
    "#     filepath = os.path.join('/home/njesh/python-mini-project-JaneNjeri/Results', choice)\n",
    "#     with open('3b3b_seqres.txt', 'r') as file:\n",
    "#         with open(filepath, 'w') as outfile:\n",
    "#             for i in file:\n",
    "#                 outfile.writelines('>' + header + '\\n' + i)\n",
    "#         print('Fasta file generated!')"
   ]
  },
  {
   "cell_type": "code",
   "execution_count": 31,
   "metadata": {},
   "outputs": [],
   "source": [
    "def write_coord_seq():\n",
    "    import os\n",
    "    choice = input('Enter the name of the file: ')\n",
    "    filepath = os.path.join('/home/njesh/python-mini-project-JaneNjeri/Data', choice)\n",
    "    lis = []\n",
    "    with open(filepath, 'r') as file:\n",
    "        for line in file:\n",
    "            if line[:4] == 'ATOM':\n",
    "                line_split = line.split()\n",
    "                lis.append(line_split[3:4])\n",
    "    choice1 = input('Enter name for the output file: ')\n",
    "    filepath1 = os.path.join('/home/njesh/python-mini-project-JaneNjeri/Results', choice1)\n",
    "    with open(filepath1, 'w') as myfile:\n",
    "        for i in lis:\n",
    "            myfile.writelines(i)\n",
    "        print('Done!')\n",
    "        \n",
    "    with open(choice, 'r') as myfile:\n",
    "        header = ''\n",
    "        for line in myfile:\n",
    "            if line.startswith(\"TITLE\"): \n",
    "                head_split = line.split()\n",
    "                header = header + ' '.join(head_split[1:])\n",
    "            \n",
    "    choice2 = input('Enter output file name with a .fasta extension: ')\n",
    "    filepath2 = os.path.join('/home/njesh/python-mini-project-JaneNjeri/Results', choice2)\n",
    "    z = os.path.join('/home/njesh/python-mini-project-JaneNjeri/Results', choice1)\n",
    "    with open(z, 'r') as file:\n",
    "        with open(filepath2, 'w') as output:\n",
    "            for i in file:\n",
    "                output.writelines('>' + header + '\\n' + i)\n",
    "        print('Fasta file generated!')"
   ]
  },
  {
   "cell_type": "code",
   "execution_count": 46,
   "metadata": {},
   "outputs": [
    {
     "name": "stdin",
     "output_type": "stream",
     "text": [
      "Enter name for the output file:  3b3b_coord_seq.txt\n"
     ]
    },
    {
     "name": "stdout",
     "output_type": "stream",
     "text": [
      "Done!\n"
     ]
    },
    {
     "name": "stdin",
     "output_type": "stream",
     "text": [
      "Enter output file name with a .fasta extension:  3b3b_coord_seq.fasta\n"
     ]
    },
    {
     "name": "stdout",
     "output_type": "stream",
     "text": [
      "Fasta file generated!\n"
     ]
    }
   ],
   "source": [
    "write_coord_seq('3b3b.pdb')"
   ]
  },
  {
   "cell_type": "code",
   "execution_count": 32,
   "metadata": {},
   "outputs": [],
   "source": [
    "def write_align_seq():\n",
    "    import os\n",
    "    choice = input('Enter the name of the file: ')\n",
    "    filepath = os.path.join('/home/njesh/python-mini-project-JaneNjeri/Data', choice)\n",
    "    with open(infile,'r') as file:\n",
    "        seq_list = []\n",
    "        for line in file:\n",
    "            if line[:6] == 'SEQRES':\n",
    "                line_split = line.split()[4:]\n",
    "                seq_list.append(line_split)\n",
    "    choice1 = input('Enter name of the outfile: ')            \n",
    "    filepath1 = os.path.join('/home/njesh/python-mini-project-JaneNjeri/Results', choice1)\n",
    "    with open(filepath1, 'w') as outfile:\n",
    "        for i in seq_list:\n",
    "            outfile.writelines(i)\n",
    "        print('Sequences successfully written!')\n",
    "        \n",
    "    choice2 = input('Enter name of the alignment sequence: ')\n",
    "    filepath2 = os.path.join('/home/njesh/python-mini-project-JaneNjeri/Results', choice2)\n",
    "    j = os.path.join('/home/njesh/python-mini-project-JaneNjeri/Results', choice1)\n",
    "    with open(j, 'r') as fil:\n",
    "        d = {'CYS':'C','ASP':'D','SER':'S','GLN':'Q','LYS':'K','ILE':'I','PRO':'P','THR':'T','PHE':'F','ASN':'N',\n",
    "             'GLY':'G','HIS':'H','LEU':'L','ARG':'R','TRP':'W','TER':'*','ALA':'A','VAL':'V','GLU':'E','TYR':'Y',\n",
    "             'MET':'M','XAA':'X'}\n",
    "        with open(filepath2, 'w') as outf:\n",
    "            for line in fil:\n",
    "                if len(line) %3 == 0:\n",
    "                    upper_seq = line.upper()\n",
    "                    single_seq = ''\n",
    "                    for i in range(int(len(upper_seq)/3)):\n",
    "                        single_seq += d[upper_seq[3*i:3*i+3]]\n",
    "                        outf.write(single_seq)    \n",
    "                    print('Done!')\n",
    "                    return single_seq\n",
    "                else:\n",
    "                    print(\"ERROR: Line was not a factor of 3 in length!\")  \n",
    "        \n",
    "    with open(choice, 'r') as myfile:\n",
    "        header = ''\n",
    "        for line in myfile:\n",
    "            if line.startswith(\"TITLE\"): \n",
    "                head_split = line.split()\n",
    "                header = header + ' '.join(head_split[1:])\n",
    "            \n",
    "    choice3 = input('Enter output file name with a .fasta extension: ')\n",
    "    filepath3 = os.path.join('/home/njesh/python-mini-project-JaneNjeri/Results', choice3)\n",
    "    z = os.path.join('/home/njesh/python-mini-project-JaneNjeri/Results', choice2)\n",
    "    with open(z, 'r') as file:\n",
    "        with open(filepath3, 'w') as output:\n",
    "            for i in file:\n",
    "                output.writelines('>' + header + '\\n' + i)\n",
    "        print('Fasta file generated!')"
   ]
  },
  {
   "cell_type": "code",
   "execution_count": 106,
   "metadata": {},
   "outputs": [
    {
     "name": "stdin",
     "output_type": "stream",
     "text": [
      "Enter name of the outfile:  3b3b_algn_seq.txt\n"
     ]
    },
    {
     "name": "stdout",
     "output_type": "stream",
     "text": [
      "Sequences successfully written!\n"
     ]
    },
    {
     "name": "stdin",
     "output_type": "stream",
     "text": [
      "Enter name of the alignment sequence:  3b3b_algn_seqX.txt\n"
     ]
    },
    {
     "name": "stdout",
     "output_type": "stream",
     "text": [
      "Done!\n"
     ]
    },
    {
     "data": {
      "text/plain": [
       "'MGSSHHHHHHSSGENLYFQGHMTQQPQAKYRHDYRAPDYQITDIDLTFDLDAQKTVVTAVSQAVRHGASDAPLRLNGEDLKLVSVHINDEPWTAWKEEEGALVISNLPERFTLKIINEISPAANTALEGLYQSGDALCTQCEAEGFRHITYYLDRPDVLARFTTKIIADKIKYPFLLSNGNRVAQGELENGRHWVQWQDPFPKPCYLFALVAGDFDVLRDTFTTRSGREVALELYVDRGNLDRAPWAMTSLKNSMKWDEERFGLEYDLDIYMIVAVDFFNMGAMENKGLNIFNSKYVLARTDTATDKDYLDIERVIGHEYFHNWTGNRVTCRDWFQLSLKEGLTVFRDQEFSSDLGSRAVNRINNVRTMRGLQFAEDASPMAHPIRPDMVIEMNNFYTLTVYEKGAEVIRMIHTLLGEENFQKGMQLYFERHDGSAATCDDFVQAMEDASNVDLSHFRRWYSQSGTPIVTVKDDYNPETEQYTLTISQRTPATPDQAEKQPLHIPFAIELYDNEGKVIPLQKGGHPVNSVLNVTQAEQTFVFDNVYFQPVPALLCEFSAPVKLEYKWSDQQLTFLMRHARNDFSRWDAAQSLLATYIKLNVARHQQGQPLSLPVHVADAFRAVLLDEKIDPALAAEILTLPSVNEMAELFDIIDPIAIAEVREALTRTLATELADELLAIYNANYQSEYRVEHEDIAKRTLRNACLRFLAFGETHLADVLVSKQFHEANNMTDALAALSAAVAAQLPCRDALMQEYDDKWHQNGLVMDKWFILQATSPAANVLETVRGLLQHRSFTMSNPNRIRSLIGAFAGSNPAAFHAEDGSGYLFLVEMLTDLNSRNPQVASRLIEPLIRLKRYDAKRQEKMRAALEQLKGLENLSGDLYEKITKALA'"
      ]
     },
     "execution_count": 106,
     "metadata": {},
     "output_type": "execute_result"
    }
   ],
   "source": [
    "write_align_seq('3b3b.pdb')"
   ]
  },
  {
   "cell_type": "code",
   "execution_count": null,
   "metadata": {},
   "outputs": [],
   "source": [
    "\n",
    "# def writeCoordinate():\n",
    "    \n",
    "\n",
    "# def writeSequence():\n",
    "    \n",
    "# import numpy as np\n",
    "# from displayMenu import *\n",
    "# from writeCoordinate import *\n",
    "# from writeSequence import *\n"
   ]
  },
  {
   "cell_type": "code",
   "execution_count": 4,
   "metadata": {},
   "outputs": [
    {
     "ename": "IndentationError",
     "evalue": "unexpected indent (<ipython-input-4-efa0b918e068>, line 43)",
     "output_type": "error",
     "traceback": [
      "\u001b[0;36m  File \u001b[0;32m\"<ipython-input-4-efa0b918e068>\"\u001b[0;36m, line \u001b[0;32m43\u001b[0m\n\u001b[0;31m    brea\u001b[0m\n\u001b[0m    ^\u001b[0m\n\u001b[0;31mIndentationError\u001b[0m\u001b[0;31m:\u001b[0m unexpected indent\n"
     ]
    }
   ],
   "source": [
    "# def display_menu(options):\n",
    "    \n",
    "#     print(\"\"\"******Display Menu******\"\"\")\n",
    "#     print(\"\"\"main_menu_items:\n",
    "#             1 = Write out coordinate file\n",
    "#                 1: All atom\n",
    "#                 2: Backbone atoms\n",
    "#                 3: Alpha carbon atoms only\n",
    "#             2 = Write out sequence(Fasta format)\n",
    "#                 1: SEQRES sequence \n",
    "#                 2: Coordinate sequence\n",
    "#                 3: Alignment sequence)\n",
    "#             3 = Quit\n",
    "#           \"\"\")\n",
    "\n",
    "# #     return int(input(\"Please enter your choice: \"))\n",
    "\n",
    "# import numpy as np\n",
    "# main_menu_items = np.array([\"Write out coordinate file\", \"Write out sequence (Fasta format)\", \"Quit\"])\n",
    "# sub_menu_tems1  = np.array([\"All atom\", \"Backbone atoms\", \"Alpha carbon atoms only\"])\n",
    "# sub_menu_items2 = np.array([\"SEQRES sequence\", \"Coordinate sequence\", \"Alignment sequence\"])\n",
    "\n",
    "\n",
    "# loop = True\n",
    "# while loop:\n",
    "#     display_menu('options')\n",
    "#     choice = input(\"Enter your choice [1-3]: \")\n",
    "    \n",
    "#     if choice == 1:\n",
    "#         subchoice = display_menu(sub_menu_items1)\n",
    "#         if subchoice in [1, 2, 3]:\n",
    "#             print('yes')\n",
    "#             break   \n",
    "#         continue    \n",
    "#     elif choice == 2:\n",
    "#         subchoice = display_menu(sub_menu_items2)\n",
    "#         if subchoice in [1, 2, 3]:\n",
    "#             print('no')\n",
    "#             break      \n",
    "#         continue\n",
    "#     elif choice == 3:\n",
    "#         loop = False\n",
    "#             break"
   ]
  },
  {
   "cell_type": "code",
   "execution_count": 3,
   "metadata": {},
   "outputs": [],
   "source": [
    "def data_load():\n",
    "    file = './3k6h.pdb'\n",
    "    with open(file, 'r')as pdb:\n",
    "        for line in pdb:\n",
    "            print(line, end='')"
   ]
  },
  {
   "cell_type": "code",
   "execution_count": 33,
   "metadata": {},
   "outputs": [
    {
     "ename": "SyntaxError",
     "evalue": "unexpected EOF while parsing (<ipython-input-33-fb99fee400da>, line 1)",
     "output_type": "error",
     "traceback": [
      "\u001b[0;36m  File \u001b[0;32m\"<ipython-input-33-fb99fee400da>\"\u001b[0;36m, line \u001b[0;32m1\u001b[0m\n\u001b[0;31m    data_load(\u001b[0m\n\u001b[0m              ^\u001b[0m\n\u001b[0;31mSyntaxError\u001b[0m\u001b[0;31m:\u001b[0m unexpected EOF while parsing\n"
     ]
    }
   ],
   "source": [
    "data_load()"
   ]
  },
  {
   "cell_type": "code",
   "execution_count": null,
   "metadata": {},
   "outputs": [],
   "source": []
  }
 ],
 "metadata": {
  "kernelspec": {
   "display_name": "Python 3",
   "language": "python",
   "name": "python3"
  },
  "language_info": {
   "codemirror_mode": {
    "name": "ipython",
    "version": 3
   },
   "file_extension": ".py",
   "mimetype": "text/x-python",
   "name": "python",
   "nbconvert_exporter": "python",
   "pygments_lexer": "ipython3",
   "version": "3.7.4"
  }
 },
 "nbformat": 4,
 "nbformat_minor": 4
}
