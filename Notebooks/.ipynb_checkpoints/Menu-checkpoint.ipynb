{
 "cells": [
  {
   "cell_type": "code",
   "execution_count": 9,
   "metadata": {},
   "outputs": [],
   "source": [
    "def Menu():\n",
    "    \"\"\" This function prints the menu and then calls the Mainmenu function that outputs the various options.\n",
    "        Arguments: pdb file and an option from the options given\n",
    "    \"\"\"\n",
    "    \n",
    "#     from Mainmenu import Mainmenu\n",
    "    \n",
    "    # Available options\n",
    "    space = (\" \")\n",
    "    a = \" PDB ANALYSIS INTERFACE \"\n",
    "    b = \" Pick your choice from below \"\n",
    "    c = \" [R] = Enter name of a PDB file \"\n",
    "    d = \" [S] = Search for PDB files \"\n",
    "    e = \" [W] = Write out PDB files (Files in existence) \"\n",
    "    f = \" [I] = Information on PDB files \"\n",
    "    g = \" [A] = Alignment \"\n",
    "    h = \" [H] = Help \"\n",
    "    i = \" [Q] = Quit \"\n",
    "\n",
    "    # Creating the body head of the program with lines of length 70\n",
    "    ln1 = (space+(\"#\"*70))\n",
    "    ln2 = (space+\"#\"+a+(space*(70-len(a)-2))+\"#\")\n",
    "    ln3 = (space+(\"#\"*70))\n",
    "    ln4 = (space+\"#\"+b+(space*(70-len(b)-2))+\"#\")\n",
    "    ln5 = (space+\"#\"+(space*68)+\"#\")\n",
    "    ln6 = (space+\"#\"+space+c+(space*(70-len(c)-5-35))+(space*30)+space*5+\"#\")\n",
    "    ln7 = (space+\"#\"+space+d+(space*(70-len(d)-5-35))+(space*30)+space*7+\"#\")\n",
    "    ln8 = (space+\"#\"+space+e+(space*(70-len(e)-5-35))+(space*19)+\"#\")\n",
    "    ln9 = (space+\"#\"+space+f+(space*(70-len(f)-5-35))+(space*30)+space*5+\"#\")\n",
    "    ln10 = (space+\"#\"+space+g+(space*(70-len(g)-5-35))+(space*30)+space*7+\"#\")\n",
    "    ln11 = (space+\"#\"+space+h+(space*(70-len(h)-5-35))+(space*30)+space*7+\"#\")\n",
    "    ln12 = (space+\"#\"+space+i+(space*(70-len(i)-5-35))+(space*30)+space*7+\"#\")\n",
    "    ln13 = (space+(\"#\"*70))\n",
    "\n",
    "    \n",
    "    lines = [ln1,ln2,ln3,ln4,ln5,ln6,ln7,ln8,ln9,ln10,ln11,ln12,ln13]\n",
    "    \n",
    "    print(\"\\n\")\n",
    "    # Read all lines to recreate menu\n",
    "    for line in lines:\n",
    "        print(line)\n",
    "    \n",
    "        \n",
    "    # Selecting an option\n",
    "    #option = input(\"     :\")\n",
    "    #option = option.upper()\n",
    "    \n",
    "    # Initializing the Mainmenu function\n",
    "    Mainmenu()\n",
    "         \n",
    "    globals()['option'] = input()"
   ]
  },
  {
   "cell_type": "code",
   "execution_count": 10,
   "metadata": {},
   "outputs": [
    {
     "name": "stdout",
     "output_type": "stream",
     "text": [
      "\n",
      "\n",
      " ######################################################################\n",
      " # PDB ANALYSIS INTERFACE                                             #\n",
      " ######################################################################\n",
      " # Pick your choice from below                                        #\n",
      " #                                                                    #\n",
      " #  [R] = Enter name of a PDB file                                    #\n",
      " #  [S] = Search for PDB files                                        #\n",
      " #  [W] = Write out PDB files (Files in existence)                    #\n",
      " #  [I] = Information on PDB files                                    #\n",
      " #  [A] = Alignment                                                   #\n",
      " #  [H] = Help                                                        #\n",
      " #  [Q] = Quit                                                        #\n",
      " ######################################################################\n"
     ]
    },
    {
     "ename": "NameError",
     "evalue": "name 'Mainmenu' is not defined",
     "output_type": "error",
     "traceback": [
      "\u001b[0;31m---------------------------------------------------------------------------\u001b[0m",
      "\u001b[0;31mNameError\u001b[0m                                 Traceback (most recent call last)",
      "\u001b[0;32m<ipython-input-10-6072facb9af0>\u001b[0m in \u001b[0;36m<module>\u001b[0;34m\u001b[0m\n\u001b[0;32m----> 1\u001b[0;31m \u001b[0mMenu\u001b[0m\u001b[0;34m(\u001b[0m\u001b[0;34m)\u001b[0m\u001b[0;34m\u001b[0m\u001b[0;34m\u001b[0m\u001b[0m\n\u001b[0m",
      "\u001b[0;32m<ipython-input-9-92401b63bbbb>\u001b[0m in \u001b[0;36mMenu\u001b[0;34m()\u001b[0m\n\u001b[1;32m     47\u001b[0m \u001b[0;34m\u001b[0m\u001b[0m\n\u001b[1;32m     48\u001b[0m     \u001b[0;31m# Initializing the Mainmenu function\u001b[0m\u001b[0;34m\u001b[0m\u001b[0;34m\u001b[0m\u001b[0;34m\u001b[0m\u001b[0m\n\u001b[0;32m---> 49\u001b[0;31m     \u001b[0mMainmenu\u001b[0m\u001b[0;34m(\u001b[0m\u001b[0;34m)\u001b[0m\u001b[0;34m\u001b[0m\u001b[0;34m\u001b[0m\u001b[0m\n\u001b[0m\u001b[1;32m     50\u001b[0m \u001b[0;34m\u001b[0m\u001b[0m\n\u001b[1;32m     51\u001b[0m     \u001b[0mglobals\u001b[0m\u001b[0;34m(\u001b[0m\u001b[0;34m)\u001b[0m\u001b[0;34m[\u001b[0m\u001b[0;34m'option'\u001b[0m\u001b[0;34m]\u001b[0m \u001b[0;34m=\u001b[0m \u001b[0minput\u001b[0m\u001b[0;34m(\u001b[0m\u001b[0;34m)\u001b[0m\u001b[0;34m\u001b[0m\u001b[0;34m\u001b[0m\u001b[0m\n",
      "\u001b[0;31mNameError\u001b[0m: name 'Mainmenu' is not defined"
     ]
    }
   ],
   "source": [
    "Menu()"
   ]
  },
  {
   "cell_type": "code",
   "execution_count": null,
   "metadata": {},
   "outputs": [],
   "source": []
  }
 ],
 "metadata": {
  "kernelspec": {
   "display_name": "Python 3",
   "language": "python",
   "name": "python3"
  },
  "language_info": {
   "codemirror_mode": {
    "name": "ipython",
    "version": 3
   },
   "file_extension": ".py",
   "mimetype": "text/x-python",
   "name": "python",
   "nbconvert_exporter": "python",
   "pygments_lexer": "ipython3",
   "version": "3.7.4"
  }
 },
 "nbformat": 4,
 "nbformat_minor": 4
}
