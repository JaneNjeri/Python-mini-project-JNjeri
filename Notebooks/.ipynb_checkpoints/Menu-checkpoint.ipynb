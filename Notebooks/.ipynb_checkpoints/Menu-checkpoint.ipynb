{
 "cells": [
  {
   "cell_type": "code",
   "execution_count": 11,
   "metadata": {},
   "outputs": [],
   "source": [
    "def Menu():\n",
    "    \"\"\" This function prints the menu and then calls the Mainmenu function that outputs the various options.\n",
    "        Arguments: pdb file and an option from the options given\n",
    "    \"\"\"\n",
    "    \n",
    "#     from Mainmenu import Mainmenu\n",
    "    \n",
    "    # Available options\n",
    "    space = (\" \")\n",
    "    a = \" PDB ANALYSIS INTERFACE \"\n",
    "    b = \" Please enter your choice: \"\n",
    "    c = \" [R] = Enter name of a PDB file \"\n",
    "    d = \" [S] = Search for PDB files \"\n",
    "    e = \" [W] = Write out PDB files (Files in existence) \"\n",
    "    f = \" [I] = Information on PDB files \"\n",
    "    g = \" [A] = Alignment \"\n",
    "    h = \" [H] = Help \"\n",
    "    i = \" [Q] = Quit \"\n",
    "\n",
    "    # Creating the body head of the program with lines of length 70\n",
    "    ln1 = (space+(\"#\"*70))\n",
    "    ln2 = (space+\"#\"+a+(space*(70-len(a)-2))+\"#\")\n",
    "    ln3 = (space+(\"#\"*70))\n",
    "    ln4 = (space+\"#\"+b+(space*(70-len(b)-2))+\"#\")\n",
    "    ln5 = (space+\"#\"+(space*68)+\"#\")\n",
    "    ln6 = (space+\"#\"+space+c+(space*(70-len(c)-5-35))+(space*30)+space*5+\"#\")\n",
    "    ln7 = (space+\"#\"+space+d+(space*(70-len(d)-5-35))+(space*30)+space*7+\"#\")\n",
    "    ln8 = (space+\"#\"+space+e+(space*(70-len(e)-5-35))+(space*19)+\"#\")\n",
    "    ln9 = (space+\"#\"+space+f+(space*(70-len(f)-5-35))+(space*30)+space*5+\"#\")\n",
    "    ln10 = (space+\"#\"+space+g+(space*(70-len(g)-5-35))+(space*30)+space*7+\"#\")\n",
    "    ln11 = (space+\"#\"+space+h+(space*(70-len(h)-5-35))+(space*30)+space*7+\"#\")\n",
    "    ln12 = (space+\"#\"+space+i+(space*(70-len(i)-5-35))+(space*30)+space*7+\"#\")\n",
    "    ln13 = (space+(\"#\"*70))\n",
    "\n",
    "    \n",
    "    lines = [ln1,ln2,ln3,ln4,ln5,ln6,ln7,ln8,ln9,ln10,ln11,ln12,ln13]\n",
    "    \n",
    "    print(\"\\n\")\n",
    "    # Read all lines to recreate menu\n",
    "    for line in lines:\n",
    "        print(line)\n",
    "    \n",
    "        \n",
    "    # Selecting an option\n",
    "    option = input(\"     :\")\n",
    "    option = option.upper()\n",
    "    \n",
    "    # Initializing the Mainmenu function\n",
    "    Mainmenu(infile,option)\n",
    "         \n",
    "    globals()['option'] = input()"
   ]
  },
  {
   "cell_type": "code",
   "execution_count": 14,
   "metadata": {},
   "outputs": [
    {
     "ename": "SyntaxError",
     "evalue": "unexpected EOF while parsing (<ipython-input-14-e9f8cbf6d1e9>, line 1)",
     "output_type": "error",
     "traceback": [
      "\u001b[0;36m  File \u001b[0;32m\"<ipython-input-14-e9f8cbf6d1e9>\"\u001b[0;36m, line \u001b[0;32m1\u001b[0m\n\u001b[0;31m    Menu('pdb','r'\u001b[0m\n\u001b[0m                  ^\u001b[0m\n\u001b[0;31mSyntaxError\u001b[0m\u001b[0;31m:\u001b[0m unexpected EOF while parsing\n"
     ]
    }
   ],
   "source": [
    "Menu('infile')"
   ]
  },
  {
   "cell_type": "code",
   "execution_count": null,
   "metadata": {},
   "outputs": [],
   "source": []
  }
 ],
 "metadata": {
  "kernelspec": {
   "display_name": "Python 3",
   "language": "python",
   "name": "python3"
  },
  "language_info": {
   "codemirror_mode": {
    "name": "ipython",
    "version": 3
   },
   "file_extension": ".py",
   "mimetype": "text/x-python",
   "name": "python",
   "nbconvert_exporter": "python",
   "pygments_lexer": "ipython3",
   "version": "3.7.4"
  }
 },
 "nbformat": 4,
 "nbformat_minor": 4
}
