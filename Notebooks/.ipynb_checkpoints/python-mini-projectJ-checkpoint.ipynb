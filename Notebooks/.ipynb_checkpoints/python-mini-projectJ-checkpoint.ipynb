{
 "cells": [
  {
   "cell_type": "code",
   "execution_count": 25,
   "metadata": {},
   "outputs": [],
   "source": [
    "#Options to analyze PDB files\n",
    "#import sys allows you to use the sys.exit command to quit/logout of the program\n",
    "\n",
    "\n",
    "import sys\n",
    "\n",
    "def Menu(options):\n",
    "    print(\"************MAIN MENU**************\")\n",
    "\n",
    "    choice = input(\"\"\"\n",
    "                        'R': Enter name of a PDB file \n",
    "                        'S': Search for PDB files\n",
    "                        'W': Write out PDB files (PDB files in existence) \n",
    "                        'I': Information on PDB files\n",
    "                        'A': Alignment\n",
    "                        'H': Help\n",
    "                        'Q': Quit\n",
    "\n",
    "                        \"\"\")\n",
    "    input('Please enter your choice: ')\n",
    "\n",
    "    if choice.upper() in ('R','S','W','I','A','H','Q'):\n",
    "        if choice.upper() == \"R\":\n",
    "            print('Enter name of pdb file: ')\n",
    "        elif choice.upper() == \"S\":\n",
    "            print('Search for a pdb file: ')\n",
    "        elif choice.upper() == \"W\":\n",
    "            print('Read in pdb files: ')\n",
    "        elif choice.upper() == \"I\":\n",
    "            print('Give a list of pdb files: ')\n",
    "        elif choice.upper() == \"Q\":\n",
    "            sys.exit\n",
    "        else:\n",
    "            print(\"You must only enter R,S,W or I\")\n",
    "            print(\"Please try again\")\n",
    "            choice = input(\"Please enter your choice: \")"
   ]
  },
  {
   "cell_type": "code",
   "execution_count": null,
   "metadata": {},
   "outputs": [],
   "source": [
    "import os\n",
    "\n",
    "keyword = input(\"Search For?: \")  # ask the user for keyword, use raw_input() on Python 2.x\n",
    "\n",
    "root_dir = \"/\"  # path to the root directory to search\n",
    "for root, dirs, files in os.walk(root_dir, onerror=None):  # walk the root dir\n",
    "    for filename in files:  # iterate over the files in the current dir\n",
    "        file_path = os.path.join(root, filename)  # build the file path\n",
    "        try:\n",
    "            with open(file_path, \"rb\") as f:  # open the file for reading\n",
    "                # read the file line by line\n",
    "                for line in f:  # use: for i, line in enumerate(f) if you need line numbers\n",
    "                    try:\n",
    "                        line = line.decode(\"utf-8\")  # try to decode the contents to utf-8\n",
    "                    except ValueError:  # decoding failed, skip the line\n",
    "                        continue\n",
    "                    if keyword in line:  # if the keyword exists on the current line...\n",
    "                        print(file_path)  # print the file path\n",
    "                        break  # no need to iterate over the rest of the file\n",
    "        except (IOError, OSError):  # ignore read and permission errors\n",
    "            pass"
   ]
  },
  {
   "cell_type": "code",
   "execution_count": 43,
   "metadata": {},
   "outputs": [
    {
     "ename": "SyntaxError",
     "evalue": "invalid syntax (<ipython-input-43-2fe9156dcb42>, line 67)",
     "output_type": "error",
     "traceback": [
      "\u001b[0;36m  File \u001b[0;32m\"<ipython-input-43-2fe9156dcb42>\"\u001b[0;36m, line \u001b[0;32m67\u001b[0m\n\u001b[0;31m    else:\u001b[0m\n\u001b[0m       ^\u001b[0m\n\u001b[0;31mSyntaxError\u001b[0m\u001b[0;31m:\u001b[0m invalid syntax\n"
     ]
    }
   ],
   "source": [
    "# def Menu():\n",
    "print(\"************MAIN MENU**************\")\n",
    "\n",
    "choice = input(\"\"\" Please enter your choice: \n",
    "         Options\n",
    "         [R] = Enter name of a PDB file \n",
    "         [S] = Search for PDB files\n",
    "         [W]= Write out PDB files (PDB files in existence) \n",
    "         [I] = Information on PDB files\n",
    "         [A] = Alignment\n",
    "         [H] = Help\n",
    "         [Q] = Quit           \n",
    "         \"\"\")\n",
    "# def add_file(dict, key, value):\n",
    "#     if key not in dict:\n",
    "#         dict[key] = []\n",
    "#     dict[key].append(value)\n",
    "global path   \n",
    "dikt = {}\n",
    "dikt.update({1:'1hab.pdb', 2:'3b3b.pdb', 3:'3k6h.pdb', 4:'4kty.pdb'})\n",
    "# add_file(d, ' ', ' ')\n",
    "\n",
    "def file_append_dikt(infile):\n",
    "    dikt = {}\n",
    "    file = open(infile, 'r')\n",
    "    for i in file:\n",
    "            line = i.split()\n",
    "            if len(line) == 2:\n",
    "                key, value = line[0], line[1]\n",
    "                dikt[key] = value\n",
    "    print(dikt)\n",
    "\n",
    "                    \n",
    "def check_existence(infile):            \n",
    "    if infile in dikt.values():\n",
    "        def file_path():               \n",
    "            path = \"/home/njesh/python-mini-project-JaneNjeri/PDB_files\"\n",
    "            for root, dirs, files in os.walk(path, onerror=None):\n",
    "                for infile in files:\n",
    "                    file_path = os.path.join(root, infile)\n",
    "        print(\"File %s is loaded, do you want to replace the file?\" %infile)\n",
    "        replace = input(\"Yes/No: \")\n",
    "        replace = replace.upper()\n",
    "    else:\n",
    "        print('File does not exist! Check file again.')\n",
    "        \n",
    "def Read_file():\n",
    "    if choice.upper() in ('R','S','W','I','A','H','Q'):\n",
    "        if choice.upper() == 'R':\n",
    "            infile = input(print(\"Enter name of pdb file: \"))\n",
    "            with open(infile, 'r')as pdb:\n",
    "                try:\n",
    "                    if infile.endswith('.pdb'):\n",
    "                        file_added = file_append_dikt(infile)\n",
    "                        print('Files entered %s' %infile)\n",
    "                        print(file_added)\n",
    "                    else:\n",
    "                        if not infile.endswith('.pdb'):\n",
    "                            print(input('Not the right pdb format! Please re-enter: '))\n",
    "                        \n",
    "#                             file_added = file_append_dikt(infile)\n",
    "#                             print('Files entered')\n",
    "#                             print(file_added)\n",
    "                        exists = check_existence(infile)\n",
    "                        print(exists)\n",
    "                \n",
    "                    else:\n",
    "                    infile in dikt.values():\n",
    "                        def file_path():               \n",
    "                            path = \"/home/njesh/python-mini-project-JaneNjeri/PDB_files\"\n",
    "                            for root, dirs, files in os.walk(path, onerror=None):\n",
    "                                for infile in files:\n",
    "                                    file_path = os.path.join(root, infile)\n",
    "                        print(\"File %s is loaded, do you want to replace the file?\" %infile)\n",
    "                        replace = input(\"Yes/No: \")\n",
    "                        outfile = infile\n",
    "                        replace = infile.replace(infile, outfile)\n",
    "                        print(\"Yaay! File is replaced\")\n",
    "                except:\n",
    "                    print('File does not exist! Check file again.')"
   ]
  },
  {
   "cell_type": "code",
   "execution_count": 40,
   "metadata": {},
   "outputs": [
    {
     "name": "stdout",
     "output_type": "stream",
     "text": [
      "Enter name of pdb file: \n"
     ]
    },
    {
     "name": "stdin",
     "output_type": "stream",
     "text": [
      "None 3k6h-C.txt\n",
      "Not the right pdb format! Please re-enter:  3k6h.pdb\n"
     ]
    },
    {
     "name": "stdout",
     "output_type": "stream",
     "text": [
      "3k6h.pdb\n",
      "File does not exist! Check file again.\n",
      "None\n"
     ]
    }
   ],
   "source": [
    "Read_file()"
   ]
  },
  {
   "cell_type": "code",
   "execution_count": 34,
   "metadata": {},
   "outputs": [],
   "source": [
    "# def file_append_dikt(infile):\n",
    "#     dikt = {}\n",
    "#     file = open('3b3b.pdb', 'r')\n",
    "#     for i in file:\n",
    "#             line = i.split()\n",
    "#             if len(line) == 2:\n",
    "#                 key, value = line[0], line[1]\n",
    "#                 dikt[key] = value\n",
    "#     print(dikt)"
   ]
  },
  {
   "cell_type": "code",
   "execution_count": 52,
   "metadata": {},
   "outputs": [],
   "source": [
    "# from pathlib import Path\n",
    "# dikt = {}\n",
    "# file = ('infile')\n",
    "\n",
    "# files_folder = Path(\"/home/njesh/python-mini-project-JaneNjeri/PDB_files\")\n",
    "# file_to_check = files_folder / '*.pdb'\n",
    "\n",
    "# if not file in file_to_check:\n",
    "#     file_append_dikt(infile)\n",
    "#     print(\"File %s is loaded, do you want to replace the file?\" %pdb)\n",
    "#     replace = input(\"Yes/No: \")\n",
    "#     replace = replace.upper()\n",
    "# else:\n",
    "#     print(\"File does not exist!\")"
   ]
  },
  {
   "cell_type": "code",
   "execution_count": 29,
   "metadata": {},
   "outputs": [
    {
     "name": "stdout",
     "output_type": "stream",
     "text": [
      "{'AUTHOR': 'A.ADDLAGATTA', 'REMARK': '900'}\n"
     ]
    }
   ],
   "source": [
    "file_append_dikt('3b3b.pdb')"
   ]
  },
  {
   "cell_type": "code",
   "execution_count": 54,
   "metadata": {},
   "outputs": [],
   "source": [
    "dikt.update({1:'1hab.pdb', 2:'3b3b.pdb', 3:'3k6h.pdb', 4:'4kty.pdb'})"
   ]
  },
  {
   "cell_type": "code",
   "execution_count": 55,
   "metadata": {},
   "outputs": [
    {
     "data": {
      "text/plain": [
       "{1: '1hab.pdb', 2: '3b3b.pdb', 3: '3k6h.pdb', 4: '4kty.pdb'}"
      ]
     },
     "execution_count": 55,
     "metadata": {},
     "output_type": "execute_result"
    }
   ],
   "source": [
    "dikt"
   ]
  },
  {
   "cell_type": "code",
   "execution_count": 9,
   "metadata": {},
   "outputs": [
    {
     "name": "stdout",
     "output_type": "stream",
     "text": [
      "/home/njesh/python-mini-project-JaneNjeri/PDB_files\n"
     ]
    }
   ],
   "source": [
    "cd '/home/njesh/python-mini-project-JaneNjeri/PDB_files/'"
   ]
  },
  {
   "cell_type": "code",
   "execution_count": 64,
   "metadata": {},
   "outputs": [],
   "source": [
    "def check_existence(infile):            \n",
    "    if infile in dikt.values():\n",
    "        def file_path():               \n",
    "            path = \"/home/njesh/python-mini-project-JaneNjeri/PDB_files\"\n",
    "            for root, dirs, files in os.walk(path, onerror=None):\n",
    "                for infile in files:\n",
    "                    file_path = os.path.join(root, infile)\n",
    "        print(\"File %s is loaded, do you want to replace the file?\" %infile)\n",
    "        replace = input(\"Yes/No: \")\n",
    "        replace = replace.upper()\n",
    "    else:\n",
    "        print('File does not exist! Check file again.')"
   ]
  },
  {
   "cell_type": "code",
   "execution_count": null,
   "metadata": {},
   "outputs": [
    {
     "name": "stdout",
     "output_type": "stream",
     "text": [
      "File 1hab.pdb is loaded, do you want to replace the file?\n"
     ]
    }
   ],
   "source": [
    "check_existence('1hab.pdb')"
   ]
  },
  {
   "cell_type": "code",
   "execution_count": null,
   "metadata": {},
   "outputs": [],
   "source": []
  },
  {
   "cell_type": "code",
   "execution_count": 72,
   "metadata": {},
   "outputs": [
    {
     "ename": "SyntaxError",
     "evalue": "unexpected EOF while parsing (<ipython-input-72-ca9c4a163a26>, line 4)",
     "output_type": "error",
     "traceback": [
      "\u001b[0;36m  File \u001b[0;32m\"<ipython-input-72-ca9c4a163a26>\"\u001b[0;36m, line \u001b[0;32m4\u001b[0m\n\u001b[0;31m    print(line\u001b[0m\n\u001b[0m              ^\u001b[0m\n\u001b[0;31mSyntaxError\u001b[0m\u001b[0;31m:\u001b[0m unexpected EOF while parsing\n"
     ]
    }
   ],
   "source": [
    "filename = input(print('Enter filename'))\n",
    "with open(filename, 'r')as pdb:\n",
    "    for line in pdb:\n",
    "        print(line)"
   ]
  },
  {
   "cell_type": "code",
   "execution_count": 84,
   "metadata": {},
   "outputs": [
    {
     "name": "stdout",
     "output_type": "stream",
     "text": [
      "/home/njesh/python-mini-project-JaneNjeri/PDB_files\n"
     ]
    }
   ],
   "source": [
    "cd /home/njesh/python-mini-project-JaneNjeri/PDB_files/\n"
   ]
  },
  {
   "cell_type": "code",
   "execution_count": 89,
   "metadata": {},
   "outputs": [],
   "source": [
    "with open('./1alu.pdb', 'r') as pdb:\n",
    "    for i in pdb:\n",
    "        print(i)"
   ]
  },
  {
   "cell_type": "code",
   "execution_count": 94,
   "metadata": {},
   "outputs": [
    {
     "ename": "SyntaxError",
     "evalue": "unexpected EOF while parsing (<ipython-input-94-27c5d644239c>, line 3)",
     "output_type": "error",
     "traceback": [
      "\u001b[0;36m  File \u001b[0;32m\"<ipython-input-94-27c5d644239c>\"\u001b[0;36m, line \u001b[0;32m3\u001b[0m\n\u001b[0;31m    print(line\u001b[0m\n\u001b[0m              ^\u001b[0m\n\u001b[0;31mSyntaxError\u001b[0m\u001b[0;31m:\u001b[0m unexpected EOF while parsing\n"
     ]
    }
   ],
   "source": [
    "pdb_file = open('1hab.pdb', 'r')\n",
    "line = pdb_file.read()\n",
    "print(line)"
   ]
  },
  {
   "cell_type": "code",
   "execution_count": null,
   "metadata": {},
   "outputs": [],
   "source": [
    " with open('.pdb', 'r') as pdb:\n",
    "            for line in pdb:\n",
    "                print(line)"
   ]
  },
  {
   "cell_type": "code",
   "execution_count": 3,
   "metadata": {},
   "outputs": [],
   "source": [
    "import fnmatch\n",
    "import os\n",
    "\n",
    "for file in os.listdir('.'):\n",
    "    if fnmatch.fnmatch(file, '*.pdb'):\n",
    "        print(file)\n",
    "\n",
    "# for file in os.listdir('.'):\n",
    "#     if fnmatch.fnmatch(file, '*.txt'):\n",
    "#         print(file)"
   ]
  },
  {
   "cell_type": "code",
   "execution_count": 37,
   "metadata": {},
   "outputs": [
    {
     "name": "stdout",
     "output_type": "stream",
     "text": [
      "/home/njesh/python-mini-project-JaneNjeri/PDB_files\n"
     ]
    }
   ],
   "source": [
    "cd /home/njesh/python-mini-project-JaneNjeri/PDB_files/"
   ]
  },
  {
   "cell_type": "code",
   "execution_count": 15,
   "metadata": {},
   "outputs": [
    {
     "name": "stdin",
     "output_type": "stream",
     "text": [
      "Please select choice w\n"
     ]
    },
    {
     "name": "stdout",
     "output_type": "stream",
     "text": [
      "Yes\n"
     ]
    }
   ],
   "source": [
    "choices = ('r','s','w','i','a','h','q')\n",
    "value = input(\"Please select choice\")\n",
    "\n",
    "for x in choices:\n",
    "    if value == x:\n",
    "        print(\"Yes\")"
   ]
  }
 ],
 "metadata": {
  "kernelspec": {
   "display_name": "Python 3",
   "language": "python",
   "name": "python3"
  },
  "language_info": {
   "codemirror_mode": {
    "name": "ipython",
    "version": 3
   },
   "file_extension": ".py",
   "mimetype": "text/x-python",
   "name": "python",
   "nbconvert_exporter": "python",
   "pygments_lexer": "ipython3",
   "version": "3.7.4"
  }
 },
 "nbformat": 4,
 "nbformat_minor": 4
}
