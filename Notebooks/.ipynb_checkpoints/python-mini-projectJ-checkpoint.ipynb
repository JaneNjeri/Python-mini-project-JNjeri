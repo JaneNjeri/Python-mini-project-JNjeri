{
 "cells": [
  {
   "cell_type": "code",
   "execution_count": 25,
   "metadata": {},
   "outputs": [],
   "source": [
    "def Menu(infile):\n",
    "    \"\"\" This function prints the menu and then calls the Mainmenu function that outputs the various options.\n",
    "        Arguments: pdb file and an option from the options given\n",
    "    \"\"\"\n",
    "    \n",
    "#     from Mainmenu import Mainmenu\n",
    "    \n",
    "    # Available options\n",
    "    space = (\" \")\n",
    "    a = \" PDB ANALYSIS INTERFACE \"\n",
    "    b = \" Please enter your choice: \"\n",
    "    c = \" [R] = Enter name of a PDB file \"\n",
    "    d = \" [S] = Search for PDB files \"\n",
    "    e = \" [W] = Write out PDB files (Files in existence) \"\n",
    "    f = \" [I] = Information on PDB files \"\n",
    "    g = \" [A] = Alignment \"\n",
    "    h = \" [H] = Help \"\n",
    "    i = \" [Q] = Quit \"\n",
    "\n",
    "    # Creating the body head of the program with lines of length 70\n",
    "    ln1 = (space+(\"#\"*70))\n",
    "    ln2 = (space+\"#\"+a+(space*(70-len(a)-2))+\"#\")\n",
    "    ln3 = (space+(\"#\"*70))\n",
    "    ln4 = (space+\"#\"+b+(space*(70-len(b)-2))+\"#\")\n",
    "    ln5 = (space+\"#\"+(space*68)+\"#\")\n",
    "    ln6 = (space+\"#\"+space+c+(space*(70-len(c)-5-35))+(space*30)+space*5+\"#\")\n",
    "    ln7 = (space+\"#\"+space+d+(space*(70-len(d)-5-35))+(space*30)+space*7+\"#\")\n",
    "    ln8 = (space+\"#\"+space+e+(space*(70-len(e)-5-35))+(space*19)+\"#\")\n",
    "    ln9 = (space+\"#\"+space+f+(space*(70-len(f)-5-35))+(space*30)+space*5+\"#\")\n",
    "    ln10 = (space+\"#\"+space+g+(space*(70-len(g)-5-35))+(space*30)+space*7+\"#\")\n",
    "    ln11 = (space+\"#\"+space+h+(space*(70-len(h)-5-35))+(space*30)+space*7+\"#\")\n",
    "    ln12 = (space+\"#\"+space+i+(space*(70-len(i)-5-35))+(space*30)+space*7+\"#\")\n",
    "    ln13 = (space+(\"#\"*70))\n",
    "\n",
    "    \n",
    "    lines = [ln1,ln2,ln3,ln4,ln5,ln6,ln7,ln8,ln9,ln10,ln11,ln12,ln13]\n",
    "    \n",
    "    print(\"\\n\")\n",
    "    # Read all lines to recreate menu\n",
    "    for line in lines:\n",
    "        print(line)\n",
    "    \n",
    "        \n",
    "    # Selecting an option\n",
    "    option = input(\"     :\")\n",
    "    option = option.upper()\n",
    "    \n",
    "    # Initializing the Mainmenu function\n",
    "    Mainmenu(option)\n",
    "         \n",
    "    globals()['option'] = input()"
   ]
  },
  {
   "cell_type": "code",
   "execution_count": null,
   "metadata": {},
   "outputs": [],
   "source": [
    "\"\"\" This section initializes the program,and calls in the Mainmenu \"\"\"\n",
    "\n",
    "# No pdb file at start\n",
    "pdb = \"None\"\n",
    "\n",
    "# Importing the start module\n",
    "from Menu import Mainmenu\n",
    "\n",
    "# Initializing the program by calling the Mainmenu function\n",
    "Mainmenu(option)"
   ]
  },
  {
   "cell_type": "code",
   "execution_count": null,
   "metadata": {},
   "outputs": [],
   "source": [
    "#Options to analyze PDB files\n",
    "#import sys allows you to use the sys.exit command to quit/logout of the program\n",
    "\n",
    "\n",
    "import sys\n",
    "\n",
    "def Mainmenu(infile,option):\n",
    "    \"\"\" This function provides different options for the user to select\n",
    "        Arguments: infile, option\n",
    "    \"\"\"\n",
    "    \n",
    "    global path\n",
    "    \n",
    "    print(\"************MAIN MENU**************\")\n",
    "\n",
    "    choice = input(\"\"\" Please enter your choice: \n",
    "                        [R]: Enter name of a PDB file \n",
    "                        [S]: Search for PDB files\n",
    "                        [W]: Write out PDB files (PDB files in existence) \n",
    "                        [I]: Information on PDB files\n",
    "                        [A]: Alignment\n",
    "                        [H]: Help\n",
    "                        [Q]: Quit\n",
    "\n",
    "                        \"\"\")\n",
    "\n",
    "    if choice.upper() in ('R','S','W','I','A','H','Q'):\n",
    "        if choice.upper() == \"R\":\n",
    "            print('Enter name of pdb file: ')\n",
    "        elif choice.upper() == 'S':\n",
    "            print('Search for a pdb file: ')\n",
    "        elif choice.upper() == 'W':\n",
    "            print('Read in pdb files: ')\n",
    "        elif choice.upper() == 'I':\n",
    "            print('Give a list of pdb files: ')\n",
    "        elif choice.upper() == 'A':\n",
    "            print('Align sequences from two PDB files')\n",
    "        elif choice.upper() == 'H':\n",
    "            print('Lists all options and gives a brief description')\n",
    "        elif choice.upper() == 'Q':\n",
    "            sys.exit\n",
    "    else:\n",
    "        print('You must only enter R, S, W, I, A, H or Q. Please try again')\n",
    "        choice = input('Please enter your choice: ')"
   ]
  },
  {
   "cell_type": "code",
   "execution_count": 20,
   "metadata": {},
   "outputs": [],
   "source": [
    "def Menu():\n",
    "    print(\"\"\"Select an option\n",
    "         [R] = Enter name of a PDB file \n",
    "         [S] = Search for PDB files\n",
    "         [W] = Write out PDB files (PDB files in existence) \n",
    "         [I] = Information on PDB files\n",
    "         [A] = Alignment\n",
    "         [H] = Help\n",
    "         [Q] = Quit           \n",
    "         \"\"\")\n",
    "    globals()['option'] = input()\n",
    "\n",
    "    \n",
    "# input(print(\"Enter the name of the PDB file: \"))\n",
    "# def add_file(dict, key, value):\n",
    "#     if key not in dict:\n",
    "#         dict[key] = []\n",
    "#     dict[key].append(value)\n",
    "global path   \n",
    "dikt = {}\n",
    "dikt.update({1:'1hab.pdb', 2:'3b3b.pdb', 3:'3k6h.pdb', 4:'4kty.pdb'})\n",
    "\n",
    "def pdbfile_list():\n",
    "    import glob, os\n",
    "    os.chdir(\"../PDB_files\")\n",
    "    file_list = []\n",
    "    for file in glob.glob(\"*.pdb\"):\n",
    "        file_list.append(file)\n",
    "    return file_list\n",
    "\n",
    "def add_file(infile):\n",
    "    fl_list = list(pdbfile_list())\n",
    "    if infile.endswith('.pdb'):\n",
    "        fl_list.append(infile)\n",
    "    else:\n",
    "        print('Enter a valid file.')\n",
    "    return fl_list\n",
    "\n",
    "def file_append_dikt(infile):  #adding files that are loaded in a dictionary\n",
    "    dikt = {}\n",
    "    with open(infile, 'r') as file:\n",
    "        for i in file:\n",
    "            line = i.split()\n",
    "            if len(line) == 2:\n",
    "                key, value = line[0], line[1]\n",
    "                dikt[key] = value\n",
    "    print(dikt)\n",
    "    \n",
    "# pdb_dikt = {'1hab.pdb':1, '3b3b.pdb':2, '3k6h.pdb':3, '4kty.pdb':4}\n",
    "# def file_append_dikt(infile,number):\n",
    "#     if infile in pdb_dikt:\n",
    "#         print('Error! File is already loaded')\n",
    "#     else:\n",
    "#         pdb_dikt[infile] = number\n",
    "#     return pdb_dikt\n",
    "                   \n",
    "def check_existence(infile):    #checking if a file exists in the PDB_files directory       \n",
    "    if infile in dikt.values():\n",
    "        def file_path():               \n",
    "            path = \"/home/njesh/python-mini-project-JaneNjeri/PDB_files\"\n",
    "            for files in os.walk(path, onerror=None):\n",
    "                for infile in files:\n",
    "                    file_path = os.path.join(path, infile)\n",
    "        print(\"File %s is loaded, do you want to replace the file?\" %infile)\n",
    "        replace = input(\"Yes/No: \")\n",
    "        outfile = infile\n",
    "        replace = replace.upper()\n",
    "        print(infile.replace(infile, outfile))\n",
    "    else:\n",
    "        print('File does not exist! Check file again.')\n",
    "    Menu(infile)\n",
    "        \n",
    "def Read_file():\n",
    "    if option.upper() in ('R','S','W','I','A','H','Q'):\n",
    "        if option.upper() == 'R':\n",
    "            infile = input(print(\"Enter name of pdb file: \"))\n",
    "            with open(infile, 'r')as pdb:\n",
    "                try:\n",
    "                    if infile.endswith('.pdb'):\n",
    "                        file_added = file_append_dikt(infile)\n",
    "                        print('Files entered %s' %infile)\n",
    "                        print(file_added)\n",
    "                        add_file(infile)\n",
    "                    else:\n",
    "                        if not infile.endswith('.pdb'):\n",
    "                            print(input('Not the right pdb format! Please re-enter: '))\n",
    "                            check_existence(infile)\n",
    "                            print(check_existence(infile))    \n",
    "                        \n",
    "                    if infile in dikt.values():\n",
    "                        print(\"File %s is loaded, do you want to replace the file?\" %infile)\n",
    "                        replace = input(\"Yes/No: \")\n",
    "                        outfile = infile\n",
    "                        replace = replace.upper()\n",
    "                        print(infile.replace(infile, outfile))\n",
    "                        print('File replaced.')\n",
    "                    else:\n",
    "                        print('File does not exist! Check file again.') \n",
    "                except:\n",
    "                    print('File does not exist! Check file again.')\n",
    "\n",
    "                    \n",
    "def Get_seqres(infile,outfile):\n",
    "    \"\"\" This function extracts seqres sequences in a pdb file and outputs it to a text file. \"\"\"\n",
    "    \n",
    "    seq_list = []\n",
    "    with open(infile,'r') as file:\n",
    "        for line in file:\n",
    "            if line.startswith('SEQRES'):\n",
    "                line_split = line.split()[4]\n",
    "                seq_list.append(line_split)\n",
    "    with open(outfile, 'w') as outfile:\n",
    "        for i in seq_list:\n",
    "            outfile.write(i)\n",
    "        print('Sequences successfully written!')\n",
    "\n",
    "import re\n",
    "def glyc_sites(aa_seq):\n",
    "    \"\"\" This function finds glycosylation sites given G or Y or L then A then P or F or W the TLVGMI as motifs\n",
    "    given an amino acid sequence. \"\"\"\n",
    "    \n",
    "    pattern = re.compile(r'[GYL]A[PFW][TLVGMI]')\n",
    "    matches = pattern.finditer(aa_seq)\n",
    "    for match in matches:\n",
    "        print(match)\n",
    "        \n",
    "    return aa_seq\n",
    "\n",
    "def check_glycSites(infile):\n",
    "    \"\"\" This function checks the glycosylation sites of a protein sequence in a given file. \"\"\"\n",
    "    \n",
    "    with open(infile, 'r') as myfile:\n",
    "        for i in myfile:\n",
    "            glyc_sites(i)\n",
    "            print(i)\n",
    "\n",
    "def Search_pdb():\n",
    "    import os\n",
    "    import sys\n",
    "    pdbfile_list()\n",
    "    \n",
    "    if option.upper() in ('R','S','W','I','A','H','Q'):\n",
    "        if option.upper() == 'S':\n",
    "\n",
    "            file_list = pdbfile_list()\n",
    "    \n",
    "            items = os.listdir('/home/njesh/python-mini-project-JaneNjeri/PDB_files/')\n",
    "    \n",
    "            file_list = [name for name in items if name.endswith('.pdb')]\n",
    "\n",
    "            for count, infile in enumerate(file_list, 0):\n",
    "                sys.stdout.write(\"[%d] %s\\n\\r\" % (count, infile))\n",
    "\n",
    "            choice = int(input(\"Select pdb file[0-%s]: \" % count))\n",
    "            print(file_list[choice])\n",
    "\n",
    "            keyword = input('Input a keyword of contents in the file: ')\n",
    "            with open(infile,'rb') as f:\n",
    "                try:\n",
    "                    for line in f:\n",
    "                        try:\n",
    "                            line = line.decode('utf-8')\n",
    "                        except ValueError:\n",
    "                            continue\n",
    "                        if keyword in line:\n",
    "                            print(keyword)\n",
    "                            print('File is read.')\n",
    "                            break\n",
    "                        else:\n",
    "                            print('Enter a valid keyword')\n",
    "                            break\n",
    "                except (IOError, OSError):\n",
    "                    pass\n",
    "                                            \n",
    "            Get_seqres(infile,outfile)\n",
    "            check_glycSites(infile)\n",
    "                        \n",
    "    Menu()"
   ]
  },
  {
   "cell_type": "code",
   "execution_count": 21,
   "metadata": {},
   "outputs": [
    {
     "name": "stdout",
     "output_type": "stream",
     "text": [
      "Select an option\n",
      "         [R] = Enter name of a PDB file \n",
      "         [S] = Search for PDB files\n",
      "         [W] = Write out PDB files (PDB files in existence) \n",
      "         [I] = Information on PDB files\n",
      "         [A] = Alignment\n",
      "         [H] = Help\n",
      "         [Q] = Quit           \n",
      "         \n"
     ]
    },
    {
     "name": "stdin",
     "output_type": "stream",
     "text": [
      " s\n"
     ]
    }
   ],
   "source": [
    "Menu()"
   ]
  },
  {
   "cell_type": "code",
   "execution_count": 13,
   "metadata": {},
   "outputs": [
    {
     "name": "stdout",
     "output_type": "stream",
     "text": [
      "Enter name of pdb file: \n"
     ]
    },
    {
     "name": "stdin",
     "output_type": "stream",
     "text": [
      "None 3b3b.pdb\n"
     ]
    },
    {
     "name": "stdout",
     "output_type": "stream",
     "text": [
      "{'AUTHOR': 'A.ADDLAGATTA', 'REMARK': '900'}\n",
      "Files entered 3b3b.pdb\n",
      "None\n",
      "File 3b3b.pdb is loaded, do you want to replace the file?\n"
     ]
    },
    {
     "name": "stdin",
     "output_type": "stream",
     "text": [
      "Yes/No:  Yes\n"
     ]
    },
    {
     "name": "stdout",
     "output_type": "stream",
     "text": [
      "3b3b.pdb\n",
      "File replaced.\n"
     ]
    }
   ],
   "source": [
    "Read_file()"
   ]
  },
  {
   "cell_type": "code",
   "execution_count": 22,
   "metadata": {},
   "outputs": [
    {
     "name": "stdout",
     "output_type": "stream",
     "text": [
      "[0] 4kty.pdb\n",
      "[1] 3b3b-C.pdb\n",
      "[2] 3b3b.pdb\n",
      "[3] 3k6h.pdb\n",
      "[4] 1hab.pdb\n",
      "[5] 4kty-C.pdb\n",
      "[6] 1hab-C.pdb\n",
      "\r"
     ]
    },
    {
     "name": "stdin",
     "output_type": "stream",
     "text": [
      "Select pdb file[0-6]:  3\n"
     ]
    },
    {
     "name": "stdout",
     "output_type": "stream",
     "text": [
      "3k6h.pdb\n"
     ]
    },
    {
     "ename": "NameError",
     "evalue": "name 'outfile' is not defined",
     "output_type": "error",
     "traceback": [
      "\u001b[0;31m---------------------------------------------------------------------------\u001b[0m",
      "\u001b[0;31mNameError\u001b[0m                                 Traceback (most recent call last)",
      "\u001b[0;32m<ipython-input-22-f10f37c95ccb>\u001b[0m in \u001b[0;36m<module>\u001b[0;34m\u001b[0m\n\u001b[0;32m----> 1\u001b[0;31m \u001b[0mSearch_pdb\u001b[0m\u001b[0;34m(\u001b[0m\u001b[0;34m)\u001b[0m\u001b[0;34m\u001b[0m\u001b[0;34m\u001b[0m\u001b[0m\n\u001b[0m",
      "\u001b[0;32m<ipython-input-20-c478e3f4818f>\u001b[0m in \u001b[0;36mSearch_pdb\u001b[0;34m()\u001b[0m\n\u001b[1;32m    173\u001b[0m \u001b[0;31m#                     pass\u001b[0m\u001b[0;34m\u001b[0m\u001b[0;34m\u001b[0m\u001b[0;34m\u001b[0m\u001b[0m\n\u001b[1;32m    174\u001b[0m \u001b[0;34m\u001b[0m\u001b[0m\n\u001b[0;32m--> 175\u001b[0;31m             \u001b[0mGet_seqres\u001b[0m\u001b[0;34m(\u001b[0m\u001b[0minfile\u001b[0m\u001b[0;34m,\u001b[0m\u001b[0moutfile\u001b[0m\u001b[0;34m)\u001b[0m\u001b[0;34m\u001b[0m\u001b[0;34m\u001b[0m\u001b[0m\n\u001b[0m\u001b[1;32m    176\u001b[0m             \u001b[0mcheck_glycSites\u001b[0m\u001b[0;34m(\u001b[0m\u001b[0minfile\u001b[0m\u001b[0;34m)\u001b[0m\u001b[0;34m\u001b[0m\u001b[0;34m\u001b[0m\u001b[0m\n\u001b[1;32m    177\u001b[0m \u001b[0;34m\u001b[0m\u001b[0m\n",
      "\u001b[0;31mNameError\u001b[0m: name 'outfile' is not defined"
     ]
    }
   ],
   "source": [
    "Search_pdb()"
   ]
  },
  {
   "cell_type": "code",
   "execution_count": null,
   "metadata": {},
   "outputs": [],
   "source": [
    "# import os\n",
    "\n",
    "# keyword = input(\"Search For?: \")  # ask the user for keyword, use raw_input() on Python 2.x\n",
    "\n",
    "# root_dir = \"/\"  # path to the root directory to search\n",
    "# for root, dirs, files in os.walk(root_dir, onerror=None):  # walk the root dir\n",
    "#     for filename in files:  # iterate over the files in the current dir\n",
    "#         file_path = os.path.join(root, filename)  # build the file path\n",
    "#         try:\n",
    "#             with open(file_path, \"rb\") as f:  # open the file for reading\n",
    "#                 # read the file line by line\n",
    "#                 for line in f:  # use: for i, line in enumerate(f) if you need line numbers\n",
    "#                     try:\n",
    "#                         line = line.decode(\"utf-8\")  # try to decode the contents to utf-8\n",
    "#                     except ValueError:  # decoding failed, skip the line\n",
    "#                         continue\n",
    "#                     if keyword in line:  # if the keyword exists on the current line...\n",
    "#                         print(file_path)  # print the file path\n",
    "#                         break  # no need to iterate over the rest of the file\n",
    "#         except (IOError, OSError):  # ignore read and permission errors\n",
    "#             pass"
   ]
  },
  {
   "cell_type": "code",
   "execution_count": 39,
   "metadata": {},
   "outputs": [],
   "source": [
    "# from pathlib import Path\n",
    "# dikt = {}\n",
    "# file = ('infile')\n",
    "\n",
    "# files_folder = Path(\"/home/njesh/python-mini-project-JaneNjeri/PDB_files\")\n",
    "# file_to_check = files_folder / '*.pdb'\n",
    "\n",
    "# if not file in file_to_check:\n",
    "#     file_append_dikt(infile)\n",
    "#     print(\"File %s is loaded, do you want to replace the file?\" %pdb)\n",
    "#     replace = input(\"Yes/No: \")\n",
    "#     replace = replace.upper()\n",
    "# else:\n",
    "#     print(\"File does not exist!\")"
   ]
  },
  {
   "cell_type": "code",
   "execution_count": 26,
   "metadata": {},
   "outputs": [
    {
     "name": "stdout",
     "output_type": "stream",
     "text": [
      "/home/njesh/python-mini-project-JaneNjeri/PDB_files\n"
     ]
    }
   ],
   "source": [
    "cd '/home/njesh/python-mini-project-JaneNjeri/PDB_files/'"
   ]
  },
  {
   "cell_type": "code",
   "execution_count": 156,
   "metadata": {},
   "outputs": [
    {
     "data": {
      "text/plain": [
       "'/home/njesh/python-mini-project-JaneNjeri/Notebooks'"
      ]
     },
     "execution_count": 156,
     "metadata": {},
     "output_type": "execute_result"
    }
   ],
   "source": [
    "pwd"
   ]
  },
  {
   "cell_type": "code",
   "execution_count": 31,
   "metadata": {},
   "outputs": [],
   "source": [
    "pdb_dikt = {'1hab.pdb':1, '3b3b.pdb':2, '3k6h.pdb':3, '4kty.pdb':4}\n",
    "def file_append_dikt2(infile,number):\n",
    "    if infile in pdb_dikt:\n",
    "        print('Error! File is already loaded')\n",
    "    else:\n",
    "        pdb_dikt[infile] = number\n",
    "    return pdb_dikt"
   ]
  },
  {
   "cell_type": "code",
   "execution_count": 33,
   "metadata": {},
   "outputs": [
    {
     "name": "stdout",
     "output_type": "stream",
     "text": [
      "Error! File is already loaded\n"
     ]
    },
    {
     "data": {
      "text/plain": [
       "{'1hab.pdb': 1, '3b3b.pdb': 2, '3k6h.pdb': 3, '4kty.pdb': 4}"
      ]
     },
     "execution_count": 33,
     "metadata": {},
     "output_type": "execute_result"
    }
   ],
   "source": [
    "file_append_dikt2('3b3b.pdb',2)"
   ]
  },
  {
   "cell_type": "code",
   "execution_count": 62,
   "metadata": {},
   "outputs": [],
   "source": [
    "checkFile('3b3b.pdb')"
   ]
  },
  {
   "cell_type": "code",
   "execution_count": 110,
   "metadata": {},
   "outputs": [],
   "source": [
    "def pdbfile_list():\n",
    "    import glob, os\n",
    "    os.chdir(\"../PDB_files\")\n",
    "    file_list = []\n",
    "    for file in glob.glob(\"*.pdb\"):\n",
    "        file_list.append(file)\n",
    "    return file_list"
   ]
  },
  {
   "cell_type": "code",
   "execution_count": 111,
   "metadata": {},
   "outputs": [
    {
     "data": {
      "text/plain": [
       "['4kty.pdb',\n",
       " '3b3b-C.pdb',\n",
       " '3b3b.pdb',\n",
       " '3k6h.pdb',\n",
       " '1hab.pdb',\n",
       " '4kty-C.pdb',\n",
       " '1hab-C.pdb']"
      ]
     },
     "execution_count": 111,
     "metadata": {},
     "output_type": "execute_result"
    }
   ],
   "source": [
    "pdbfile_list()"
   ]
  },
  {
   "cell_type": "code",
   "execution_count": 112,
   "metadata": {},
   "outputs": [],
   "source": [
    "def add_file(infile):\n",
    "    fl_list = list(pdbfile_list())\n",
    "    if infile.endswith('.pdb'):\n",
    "        fl_list.append(infile)\n",
    "    else:\n",
    "        print('Enter a valid file.')\n",
    "    return fl_list"
   ]
  },
  {
   "cell_type": "code",
   "execution_count": 113,
   "metadata": {},
   "outputs": [
    {
     "data": {
      "text/plain": [
       "['4kty.pdb',\n",
       " '3b3b-C.pdb',\n",
       " '3b3b.pdb',\n",
       " '3k6h.pdb',\n",
       " '1hab.pdb',\n",
       " '4kty-C.pdb',\n",
       " '1hab-C.pdb',\n",
       " '3b3b.pdb']"
      ]
     },
     "execution_count": 113,
     "metadata": {},
     "output_type": "execute_result"
    }
   ],
   "source": [
    "add_file('3b3b.pdb')"
   ]
  },
  {
   "cell_type": "code",
   "execution_count": 4,
   "metadata": {},
   "outputs": [
    {
     "name": "stdout",
     "output_type": "stream",
     "text": [
      "4kty.pdb\n"
     ]
    }
   ],
   "source": [
    "file_list = pdbfile_list()\n",
    "print(file_list[0])"
   ]
  },
  {
   "cell_type": "code",
   "execution_count": 30,
   "metadata": {},
   "outputs": [
    {
     "name": "stdout",
     "output_type": "stream",
     "text": [
      "[0] 4kty.pdb\n",
      "[1] 3b3b-C.pdb\n",
      "[2] 3b3b.pdb\n",
      "[3] 3k6h.pdb\n",
      "[4] 1hab.pdb\n",
      "[5] 4kty-C.pdb\n",
      "[6] 1hab-C.pdb\n",
      "\r"
     ]
    },
    {
     "name": "stdin",
     "output_type": "stream",
     "text": [
      "Select pdb file[0-6]:  5\n"
     ]
    },
    {
     "name": "stdout",
     "output_type": "stream",
     "text": [
      "4kty-C.pdb\n"
     ]
    },
    {
     "name": "stdin",
     "output_type": "stream",
     "text": [
      "Input a keyword of contents in the file:  HEADER\n"
     ]
    },
    {
     "name": "stdout",
     "output_type": "stream",
     "text": [
      "HEADER\n",
      "File is read.\n"
     ]
    }
   ],
   "source": [
    "import os\n",
    "import sys\n",
    "\n",
    "file_list = pdbfile_list()\n",
    "\n",
    "items = os.listdir('/home/njesh/python-mini-project-JaneNjeri/PDB_files/')\n",
    "\n",
    "file_list = [name for name in items if name.endswith('.pdb')]\n",
    "\n",
    "for count, fileName in enumerate(file_list, 0):\n",
    "    sys.stdout.write(\"[%d] %s\\n\\r\" % (count, fileName))\n",
    "\n",
    "choice = int(input(\"Select pdb file[0-%s]: \" % count))\n",
    "print(file_list[choice])\n",
    "\n",
    "keyword = input('Input a keyword of contents in the file: ')\n",
    "with open(fileName,'rb') as f:\n",
    "    try:\n",
    "        for line in f:\n",
    "            try:\n",
    "                line = line.decode('utf-8')\n",
    "            except ValueError:\n",
    "                continue\n",
    "            if keyword in line:\n",
    "                print(keyword)\n",
    "                print('File is read.')\n",
    "                break\n",
    "            else:\n",
    "                print('Enter a valid keyword')\n",
    "                break\n",
    "    except (IOError, OSError):\n",
    "        pass"
   ]
  },
  {
   "cell_type": "code",
   "execution_count": 19,
   "metadata": {},
   "outputs": [],
   "source": [
    "def Search_pdb():\n",
    "    import os\n",
    "    import sys\n",
    "    pdbfile_list()\n",
    "    \n",
    "    if option.upper() in ('R','S','W','I','A','H','Q'):\n",
    "        if option.upper() == 'S':\n",
    "\n",
    "            file_list = pdbfile_list()\n",
    "    \n",
    "            items = os.listdir('/home/njesh/python-mini-project-JaneNjeri/PDB_files/')\n",
    "    \n",
    "            file_list = [name for name in items if name.endswith('.pdb')]\n",
    "\n",
    "            for count, fileName in enumerate(file_list, 0):\n",
    "                sys.stdout.write(\"[%d] %s\\n\\r\" % (count, fileName))\n",
    "\n",
    "            choice = int(input(\"Select pdb file[0-%s]: \" % count))\n",
    "            print(file_list[choice])\n",
    "\n",
    "            keyword = input('Input a keyword of contents in the file: ')\n",
    "            with open(fileName,'rb') as f:\n",
    "                try:\n",
    "                    for line in f:\n",
    "                        try:\n",
    "                            line = line.decode('utf-8')\n",
    "                        except ValueError:\n",
    "                            continue\n",
    "                        if keyword in line:\n",
    "                            print(keyword)\n",
    "                            print('File is read.')\n",
    "                            break\n",
    "                        else:\n",
    "                            print('Enter a valid keyword')\n",
    "                            break\n",
    "                except (IOError, OSError):\n",
    "                    pass"
   ]
  },
  {
   "cell_type": "code",
   "execution_count": 20,
   "metadata": {},
   "outputs": [],
   "source": [
    "Search_pdb()"
   ]
  },
  {
   "cell_type": "code",
   "execution_count": 153,
   "metadata": {},
   "outputs": [],
   "source": [
    "dikt = {}\n",
    "dikt.update({1:'1hab.pdb', 2:'3b3b.pdb', 3:'3k6h.pdb', 4:'4kty.pdb'})\n",
    "\n",
    "def check_existence(infile):    #checking if a file exists in the PDB_files directory       \n",
    "    if infile in dikt.values():\n",
    "        def file_path():               \n",
    "            path = \"/home/njesh/python-mini-project-JaneNjeri/PDB_files\"\n",
    "            for files in os.walk(path, onerror=None):\n",
    "                for infile in files:\n",
    "                    file_path = os.path.join(path, infile)\n",
    "        print(\"File %s is loaded, do you want to replace the file?\" %infile)\n",
    "        replace = input(\"Yes/No: \")\n",
    "        outfile = infile\n",
    "        replace = replace.upper()\n",
    "        print(infile.replace(infile, outfile))\n",
    "    else:\n",
    "        print('File does not exist! Check file again.')"
   ]
  },
  {
   "cell_type": "code",
   "execution_count": 155,
   "metadata": {},
   "outputs": [
    {
     "name": "stdout",
     "output_type": "stream",
     "text": [
      "File does not exist! Check file again.\n"
     ]
    }
   ],
   "source": [
    "check_existence('3b.txt')"
   ]
  },
  {
   "cell_type": "code",
   "execution_count": 27,
   "metadata": {},
   "outputs": [
    {
     "data": {
      "text/plain": [
       "'/home/njesh/python-mini-project-JaneNjeri/Notebooks'"
      ]
     },
     "execution_count": 27,
     "metadata": {},
     "output_type": "execute_result"
    }
   ],
   "source": [
    "pwd"
   ]
  },
  {
   "cell_type": "code",
   "execution_count": 20,
   "metadata": {},
   "outputs": [
    {
     "name": "stdout",
     "output_type": "stream",
     "text": [
      "4kty.pdb\n",
      "3b3b-C.pdb\n",
      "3b3b.pdb\n",
      "3k6h.pdb\n",
      "1hab.pdb\n",
      "4kty-C.pdb\n",
      "1hab-C.pdb\n"
     ]
    }
   ],
   "source": [
    "file_append('3b3c.pdb')"
   ]
  },
  {
   "cell_type": "code",
   "execution_count": 14,
   "metadata": {},
   "outputs": [],
   "source": [
    "# import os\n",
    "# for file in os.listdir('/PDB_files'):\n",
    "#     if file.endswith('*.pdb'):\n",
    "#         print(os.path.join('/PDB_files', file))\n",
    "#         print(file)"
   ]
  },
  {
   "cell_type": "code",
   "execution_count": 16,
   "metadata": {},
   "outputs": [
    {
     "data": {
      "text/plain": [
       "'/home/njesh/python-mini-project-JaneNjeri/PDB_files'"
      ]
     },
     "execution_count": 16,
     "metadata": {},
     "output_type": "execute_result"
    }
   ],
   "source": [
    "pwd"
   ]
  },
  {
   "cell_type": "code",
   "execution_count": 18,
   "metadata": {},
   "outputs": [
    {
     "name": "stdout",
     "output_type": "stream",
     "text": [
      "File does not exist! Check file again.\n"
     ]
    },
    {
     "ename": "TypeError",
     "evalue": "Menu() takes 0 positional arguments but 1 was given",
     "output_type": "error",
     "traceback": [
      "\u001b[0;31m---------------------------------------------------------------------------\u001b[0m",
      "\u001b[0;31mTypeError\u001b[0m                                 Traceback (most recent call last)",
      "\u001b[0;32m<ipython-input-18-738a05481ef8>\u001b[0m in \u001b[0;36m<module>\u001b[0;34m\u001b[0m\n\u001b[0;32m----> 1\u001b[0;31m \u001b[0mcheck_existence\u001b[0m\u001b[0;34m(\u001b[0m\u001b[0;34m'1hab.txt'\u001b[0m\u001b[0;34m)\u001b[0m\u001b[0;34m\u001b[0m\u001b[0;34m\u001b[0m\u001b[0m\n\u001b[0m",
      "\u001b[0;32m<ipython-input-11-c760adcd7ebb>\u001b[0m in \u001b[0;36mcheck_existence\u001b[0;34m(infile)\u001b[0m\n\u001b[1;32m     69\u001b[0m     \u001b[0;32melse\u001b[0m\u001b[0;34m:\u001b[0m\u001b[0;34m\u001b[0m\u001b[0;34m\u001b[0m\u001b[0m\n\u001b[1;32m     70\u001b[0m         \u001b[0mprint\u001b[0m\u001b[0;34m(\u001b[0m\u001b[0;34m'File does not exist! Check file again.'\u001b[0m\u001b[0;34m)\u001b[0m\u001b[0;34m\u001b[0m\u001b[0;34m\u001b[0m\u001b[0m\n\u001b[0;32m---> 71\u001b[0;31m     \u001b[0mMenu\u001b[0m\u001b[0;34m(\u001b[0m\u001b[0minfile\u001b[0m\u001b[0;34m)\u001b[0m\u001b[0;34m\u001b[0m\u001b[0;34m\u001b[0m\u001b[0m\n\u001b[0m\u001b[1;32m     72\u001b[0m \u001b[0;34m\u001b[0m\u001b[0m\n\u001b[1;32m     73\u001b[0m \u001b[0;32mdef\u001b[0m \u001b[0mRead_file\u001b[0m\u001b[0;34m(\u001b[0m\u001b[0;34m)\u001b[0m\u001b[0;34m:\u001b[0m\u001b[0;34m\u001b[0m\u001b[0;34m\u001b[0m\u001b[0m\n",
      "\u001b[0;31mTypeError\u001b[0m: Menu() takes 0 positional arguments but 1 was given"
     ]
    }
   ],
   "source": [
    "check_existence('1hab.txt')"
   ]
  },
  {
   "cell_type": "code",
   "execution_count": null,
   "metadata": {},
   "outputs": [],
   "source": []
  },
  {
   "cell_type": "code",
   "execution_count": 72,
   "metadata": {},
   "outputs": [
    {
     "ename": "SyntaxError",
     "evalue": "unexpected EOF while parsing (<ipython-input-72-ca9c4a163a26>, line 4)",
     "output_type": "error",
     "traceback": [
      "\u001b[0;36m  File \u001b[0;32m\"<ipython-input-72-ca9c4a163a26>\"\u001b[0;36m, line \u001b[0;32m4\u001b[0m\n\u001b[0;31m    print(line\u001b[0m\n\u001b[0m              ^\u001b[0m\n\u001b[0;31mSyntaxError\u001b[0m\u001b[0;31m:\u001b[0m unexpected EOF while parsing\n"
     ]
    }
   ],
   "source": [
    "filename = input(print('Enter filename'))\n",
    "with open(filename, 'r')as pdb:\n",
    "    for line in pdb:\n",
    "        print(line)"
   ]
  },
  {
   "cell_type": "code",
   "execution_count": null,
   "metadata": {},
   "outputs": [],
   "source": [
    "cd /home/njesh/python-mini-project-JaneNjeri/PDB_files/"
   ]
  },
  {
   "cell_type": "code",
   "execution_count": 89,
   "metadata": {},
   "outputs": [],
   "source": [
    "with open('./1alu.pdb', 'r') as pdb:\n",
    "    for i in pdb:\n",
    "        print(i)"
   ]
  },
  {
   "cell_type": "code",
   "execution_count": 94,
   "metadata": {},
   "outputs": [
    {
     "ename": "SyntaxError",
     "evalue": "unexpected EOF while parsing (<ipython-input-94-27c5d644239c>, line 3)",
     "output_type": "error",
     "traceback": [
      "\u001b[0;36m  File \u001b[0;32m\"<ipython-input-94-27c5d644239c>\"\u001b[0;36m, line \u001b[0;32m3\u001b[0m\n\u001b[0;31m    print(line\u001b[0m\n\u001b[0m              ^\u001b[0m\n\u001b[0;31mSyntaxError\u001b[0m\u001b[0;31m:\u001b[0m unexpected EOF while parsing\n"
     ]
    }
   ],
   "source": [
    "pdb_file = open('1hab.pdb', 'r')\n",
    "line = pdb_file.read()\n",
    "print(line)"
   ]
  },
  {
   "cell_type": "code",
   "execution_count": null,
   "metadata": {},
   "outputs": [],
   "source": [
    " with open('.pdb', 'r') as pdb:\n",
    "            for line in pdb:\n",
    "                print(line)"
   ]
  },
  {
   "cell_type": "code",
   "execution_count": 3,
   "metadata": {},
   "outputs": [],
   "source": [
    "import fnmatch\n",
    "import os\n",
    "\n",
    "for file in os.listdir('.'):\n",
    "    if fnmatch.fnmatch(file, '*.pdb'):\n",
    "        print(file)\n",
    "\n",
    "# for file in os.listdir('.'):\n",
    "#     if fnmatch.fnmatch(file, '*.txt'):\n",
    "#         print(file)"
   ]
  },
  {
   "cell_type": "code",
   "execution_count": 37,
   "metadata": {},
   "outputs": [
    {
     "name": "stdout",
     "output_type": "stream",
     "text": [
      "/home/njesh/python-mini-project-JaneNjeri/PDB_files\n"
     ]
    }
   ],
   "source": [
    "cd /home/njesh/python-mini-project-JaneNjeri/PDB_files/"
   ]
  },
  {
   "cell_type": "code",
   "execution_count": 44,
   "metadata": {},
   "outputs": [
    {
     "name": "stdin",
     "output_type": "stream",
     "text": [
      "Please select choice i\n"
     ]
    },
    {
     "name": "stdout",
     "output_type": "stream",
     "text": [
      "Yes\n"
     ]
    }
   ],
   "source": [
    "choices = ('r','s','w','i','a','h','q')\n",
    "value = input(\"Please select choice\")\n",
    "\n",
    "for x in choices:\n",
    "    if value == x:\n",
    "        print(\"Yes\")"
   ]
  },
  {
   "cell_type": "code",
   "execution_count": null,
   "metadata": {},
   "outputs": [],
   "source": []
  }
 ],
 "metadata": {
  "kernelspec": {
   "display_name": "Python 3",
   "language": "python",
   "name": "python3"
  },
  "language_info": {
   "codemirror_mode": {
    "name": "ipython",
    "version": 3
   },
   "file_extension": ".py",
   "mimetype": "text/x-python",
   "name": "python",
   "nbconvert_exporter": "python",
   "pygments_lexer": "ipython3",
   "version": "3.7.4"
  }
 },
 "nbformat": 4,
 "nbformat_minor": 4
}
