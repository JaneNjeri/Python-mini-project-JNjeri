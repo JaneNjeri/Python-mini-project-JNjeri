{
 "cells": [
  {
   "cell_type": "code",
   "execution_count": null,
   "metadata": {},
   "outputs": [],
   "source": [
    "\"\"\" This section initializes the program,and calls in the Mainmenu \"\"\"\n",
    "\n",
    "# No pdb file at start\n",
    "pdb = \"None\"\n",
    "\n",
    "# Importing the start module\n",
    "from Menu import Mainmenu\n",
    "\n",
    "# Initializing the program by calling the Mainmenu function\n",
    "Mainmenu(pdb)"
   ]
  }
 ],
 "metadata": {
  "kernelspec": {
   "display_name": "Python 3",
   "language": "python",
   "name": "python3"
  },
  "language_info": {
   "codemirror_mode": {
    "name": "ipython",
    "version": 3
   },
   "file_extension": ".py",
   "mimetype": "text/x-python",
   "name": "python",
   "nbconvert_exporter": "python",
   "pygments_lexer": "ipython3",
   "version": "3.7.4"
  }
 },
 "nbformat": 4,
 "nbformat_minor": 4
}
