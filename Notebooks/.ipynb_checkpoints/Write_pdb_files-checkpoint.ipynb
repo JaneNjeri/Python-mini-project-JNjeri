{
 "cells": [
  {
   "cell_type": "code",
   "execution_count": null,
   "metadata": {},
   "outputs": [],
   "source": [
    "def Write_pdb():\n",
    "    import os\n",
    "    import sys\n",
    "    pdbfile_list()\n",
    "    \n",
    "    if option.upper() in ('R','S','W','I','A','H','Q'):\n",
    "        if option.upper() == 'W':\n",
    "\n",
    "            file_list = pdbfile_list()\n",
    "    \n",
    "            items = os.listdir('/home/njesh/python-mini-project-JaneNjeri/PDB_files/')\n",
    "    \n",
    "            file_list = [name for name in items if name.endswith('.pdb')]\n",
    "\n",
    "            for count, fileName in enumerate(file_list, 0):\n",
    "                sys.stdout.write(\"[%d] %s\\n\\r\" % (count, fileName))\n",
    "\n",
    "            choice = int(input(\"Select pdb file[0-%s]: \" % count))\n",
    "            print(file_list[choice])\n",
    "\n",
    "            keyword = input('Input a keyword of contents in the file: ') #can use HEADER, common for all pdb files\n",
    "            with open(fileName,'rb') as f:\n",
    "                try:\n",
    "                    for line in f:\n",
    "                        try:\n",
    "                            line = line.decode('utf-8')\n",
    "                        except ValueError:\n",
    "                            continue\n",
    "                        if keyword in line:\n",
    "                            print(keyword)\n",
    "                            print('File is read.')\n",
    "                            break\n",
    "                        else:\n",
    "                            print('Enter a valid keyword')\n",
    "                            break\n",
    "                except (IOError, OSError):\n",
    "                    pass\n",
    "    Menu(infile)"
   ]
  }
 ],
 "metadata": {
  "kernelspec": {
   "display_name": "Python 3",
   "language": "python",
   "name": "python3"
  },
  "language_info": {
   "codemirror_mode": {
    "name": "ipython",
    "version": 3
   },
   "file_extension": ".py",
   "mimetype": "text/x-python",
   "name": "python",
   "nbconvert_exporter": "python",
   "pygments_lexer": "ipython3",
   "version": "3.7.4"
  }
 },
 "nbformat": 4,
 "nbformat_minor": 4
}
