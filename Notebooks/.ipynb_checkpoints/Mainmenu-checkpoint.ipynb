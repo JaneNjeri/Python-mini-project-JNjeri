{
 "cells": [
  {
   "cell_type": "code",
   "execution_count": 1,
   "metadata": {},
   "outputs": [],
   "source": [
    "#Options to analyze PDB files\n",
    "#import sys allows you to use the sys.exit command to quit/logout of the program\n",
    "\n",
    "\n",
    "import sys\n",
    "\n",
    "def Mainmenu(option):\n",
    "    \"\"\" This function provides different options for the user to select\n",
    "        Arguments: option\n",
    "    \"\"\"\n",
    "    \n",
    "    global path\n",
    "    \n",
    "    print(\"************MAIN MENU**************\")\n",
    "\n",
    "    choice = input(\"\"\" Please enter your choice: \n",
    "                        [R]: Enter name of a PDB file \n",
    "                        [S]: Search for PDB files\n",
    "                        [W]: Write out PDB files (PDB files in existence) \n",
    "                        [I]: Information on PDB files\n",
    "                        [A]: Alignment\n",
    "                        [H]: Help\n",
    "                        [Q]: Quit\n",
    "\n",
    "                        \"\"\")\n",
    "\n",
    "    if choice.upper() in ('R','S','W','I','A','H','Q'):\n",
    "        if choice.upper() == \"R\":\n",
    "            print('Enter name of pdb file: ')\n",
    "        elif choice.upper() == 'S':\n",
    "            print('Search for a pdb file: ')\n",
    "        elif choice.upper() == 'W':\n",
    "            print('Read in pdb files: ')\n",
    "        elif choice.upper() == 'I':\n",
    "            print('Give a list of pdb files: ')\n",
    "        elif choice.upper() == 'A':\n",
    "            print('Align sequences from two PDB files')\n",
    "        elif choice.upper() == 'H':\n",
    "            print('Lists all options and gives a brief description')\n",
    "        elif choice.upper() == 'Q':\n",
    "            sys.exit\n",
    "    else:\n",
    "        print('You must only enter R, S, W, I, A, H or Q. Please try again')\n",
    "        choice = input('Please enter your choice: ')"
   ]
  },
  {
   "cell_type": "code",
   "execution_count": 4,
   "metadata": {},
   "outputs": [
    {
     "name": "stdout",
     "output_type": "stream",
     "text": [
      "************MAIN MENU**************\n"
     ]
    },
    {
     "name": "stdin",
     "output_type": "stream",
     "text": [
      " Please enter your choice: \n",
      "                        [R]: Enter name of a PDB file \n",
      "                        [S]: Search for PDB files\n",
      "                        [W]: Write out PDB files (PDB files in existence) \n",
      "                        [I]: Information on PDB files\n",
      "                        [A]: Alignment\n",
      "                        [H]: Help\n",
      "                        [Q]: Quit\n",
      "\n",
      "                         a\n"
     ]
    },
    {
     "name": "stdout",
     "output_type": "stream",
     "text": [
      "Align sequences from two PDB files\n"
     ]
    }
   ],
   "source": [
    "Mainmenu('r')"
   ]
  },
  {
   "cell_type": "code",
   "execution_count": null,
   "metadata": {},
   "outputs": [],
   "source": []
  }
 ],
 "metadata": {
  "kernelspec": {
   "display_name": "Python 3",
   "language": "python",
   "name": "python3"
  },
  "language_info": {
   "codemirror_mode": {
    "name": "ipython",
    "version": 3
   },
   "file_extension": ".py",
   "mimetype": "text/x-python",
   "name": "python",
   "nbconvert_exporter": "python",
   "pygments_lexer": "ipython3",
   "version": "3.7.4"
  }
 },
 "nbformat": 4,
 "nbformat_minor": 4
}
