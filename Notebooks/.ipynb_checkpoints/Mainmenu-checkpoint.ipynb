{
 "cells": [
  {
   "cell_type": "code",
   "execution_count": 12,
   "metadata": {},
   "outputs": [],
   "source": [
    "#Options to analyze PDB files\n",
    "#import sys allows you to use the sys.exit command to quit/logout of the program\n",
    "\n",
    "def Mainmenu():\n",
    "    \"\"\" This function provides different options for the user to select. \"\"\"\n",
    "    import sys\n",
    "    global path\n",
    "    \n",
    "    m = ''\n",
    "    while m == '':\n",
    "        print(\"************MAIN MENU**************\")\n",
    "\n",
    "        print(\"\"\" Available options \n",
    "                [R]: Enter name of a PDB file \n",
    "                [S]: Search for PDB files\n",
    "                [W]: Write out PDB files (PDB files in existence) \n",
    "                [I]: Information on PDB files\n",
    "                [A]: Alignment\n",
    "                [H]: Help\n",
    "                [Q]: Quit\n",
    "            \"\"\")\n",
    "    \n",
    "        choice = input('Please enter your choice: ')\n",
    "        if choice.upper() == 'R':\n",
    "            m = Read_file()\n",
    "        elif choice.upper() == 'S':\n",
    "            m = Search_file()\n",
    "        elif choice.upper() == 'W':\n",
    "            m = Write_file()\n",
    "        elif choice.upper() == 'I':\n",
    "            m = Infor_file()\n",
    "        elif choice.upper() == 'A':\n",
    "            m = Align_2files()\n",
    "        elif choice.upper() == 'H':\n",
    "            m = Help_file()\n",
    "        elif choice.upper() == 'Q':\n",
    "            sys.exit\n",
    "        else:\n",
    "            print('You must only enter R, S, W, I, A, H or Q. Please try again')\n",
    "            choice = input('Please enter your choice: ')\n",
    "    return m"
   ]
  },
  {
   "cell_type": "code",
   "execution_count": 13,
   "metadata": {},
   "outputs": [
    {
     "name": "stdout",
     "output_type": "stream",
     "text": [
      "************MAIN MENU**************\n",
      " Available options \n",
      "                [R]: Enter name of a PDB file \n",
      "                [S]: Search for PDB files\n",
      "                [W]: Write out PDB files (PDB files in existence) \n",
      "                [I]: Information on PDB files\n",
      "                [A]: Alignment\n",
      "                [H]: Help\n",
      "                [Q]: Quit\n",
      "            \n"
     ]
    },
    {
     "name": "stdin",
     "output_type": "stream",
     "text": [
      "Please enter your choice:  j\n"
     ]
    },
    {
     "name": "stdout",
     "output_type": "stream",
     "text": [
      "You must only enter R, S, W, I, A, H or Q. Please try again\n"
     ]
    },
    {
     "name": "stdin",
     "output_type": "stream",
     "text": [
      "Please enter your choice:  r\n"
     ]
    },
    {
     "name": "stdout",
     "output_type": "stream",
     "text": [
      "************MAIN MENU**************\n",
      " Available options \n",
      "                [R]: Enter name of a PDB file \n",
      "                [S]: Search for PDB files\n",
      "                [W]: Write out PDB files (PDB files in existence) \n",
      "                [I]: Information on PDB files\n",
      "                [A]: Alignment\n",
      "                [H]: Help\n",
      "                [Q]: Quit\n",
      "            \n"
     ]
    },
    {
     "name": "stdin",
     "output_type": "stream",
     "text": [
      "Please enter your choice:  i\n"
     ]
    },
    {
     "ename": "NameError",
     "evalue": "name 'Infor_file' is not defined",
     "output_type": "error",
     "traceback": [
      "\u001b[0;31m---------------------------------------------------------------------------\u001b[0m",
      "\u001b[0;31mNameError\u001b[0m                                 Traceback (most recent call last)",
      "\u001b[0;32m<ipython-input-13-7d0bfef477da>\u001b[0m in \u001b[0;36m<module>\u001b[0;34m\u001b[0m\n\u001b[0;32m----> 1\u001b[0;31m \u001b[0mMainmenu\u001b[0m\u001b[0;34m(\u001b[0m\u001b[0;34m)\u001b[0m\u001b[0;34m\u001b[0m\u001b[0;34m\u001b[0m\u001b[0m\n\u001b[0m",
      "\u001b[0;32m<ipython-input-12-9f7bc8687262>\u001b[0m in \u001b[0;36mMainmenu\u001b[0;34m()\u001b[0m\n\u001b[1;32m     30\u001b[0m                 \u001b[0mm\u001b[0m \u001b[0;34m=\u001b[0m \u001b[0mWrite_file\u001b[0m\u001b[0;34m(\u001b[0m\u001b[0;34m)\u001b[0m\u001b[0;34m\u001b[0m\u001b[0;34m\u001b[0m\u001b[0m\n\u001b[1;32m     31\u001b[0m             \u001b[0;32melif\u001b[0m \u001b[0mchoice\u001b[0m\u001b[0;34m.\u001b[0m\u001b[0mupper\u001b[0m\u001b[0;34m(\u001b[0m\u001b[0;34m)\u001b[0m \u001b[0;34m==\u001b[0m \u001b[0;34m'I'\u001b[0m\u001b[0;34m:\u001b[0m\u001b[0;34m\u001b[0m\u001b[0;34m\u001b[0m\u001b[0m\n\u001b[0;32m---> 32\u001b[0;31m                 \u001b[0mm\u001b[0m \u001b[0;34m=\u001b[0m \u001b[0mInfor_file\u001b[0m\u001b[0;34m(\u001b[0m\u001b[0;34m)\u001b[0m\u001b[0;34m\u001b[0m\u001b[0;34m\u001b[0m\u001b[0m\n\u001b[0m\u001b[1;32m     33\u001b[0m             \u001b[0;32melif\u001b[0m \u001b[0mchoice\u001b[0m\u001b[0;34m.\u001b[0m\u001b[0mupper\u001b[0m\u001b[0;34m(\u001b[0m\u001b[0;34m)\u001b[0m \u001b[0;34m==\u001b[0m \u001b[0;34m'A'\u001b[0m\u001b[0;34m:\u001b[0m\u001b[0;34m\u001b[0m\u001b[0;34m\u001b[0m\u001b[0m\n\u001b[1;32m     34\u001b[0m                 \u001b[0mm\u001b[0m \u001b[0;34m=\u001b[0m \u001b[0mAlign_2files\u001b[0m\u001b[0;34m(\u001b[0m\u001b[0;34m)\u001b[0m\u001b[0;34m\u001b[0m\u001b[0;34m\u001b[0m\u001b[0m\n",
      "\u001b[0;31mNameError\u001b[0m: name 'Infor_file' is not defined"
     ]
    }
   ],
   "source": [
    "Mainmenu()"
   ]
  },
  {
   "cell_type": "code",
   "execution_count": null,
   "metadata": {},
   "outputs": [],
   "source": []
  }
 ],
 "metadata": {
  "kernelspec": {
   "display_name": "Python 3",
   "language": "python",
   "name": "python3"
  },
  "language_info": {
   "codemirror_mode": {
    "name": "ipython",
    "version": 3
   },
   "file_extension": ".py",
   "mimetype": "text/x-python",
   "name": "python",
   "nbconvert_exporter": "python",
   "pygments_lexer": "ipython3",
   "version": "3.7.4"
  }
 },
 "nbformat": 4,
 "nbformat_minor": 4
}
