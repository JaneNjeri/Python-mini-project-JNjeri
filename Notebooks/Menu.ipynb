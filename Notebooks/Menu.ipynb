{
 "cells": [
  {
   "cell_type": "code",
   "execution_count": 1,
   "metadata": {},
   "outputs": [],
   "source": [
    "#Options to analyze PDB files\n",
    "#import sys #this allows you to use the sys.exit command to quit/logout of the application\n",
    "\n",
    "\n",
    "#def Menu():\n",
    "    print(\"************MAIN MENU**************\")\n",
    "    #time.sleep(1)\n",
    "    print()\n",
    "\n",
    "    choice = input(\"\"\"\n",
    "                      R: Read in PDB files \n",
    "                      S: Search for PDB files\n",
    "                      W: Write out PDB files (PDB files in existence) \n",
    "                      I: Information on PDB files\n",
    "                      A: Alignment\n",
    "                      H: Help\n",
    "                      Q: Quit\n",
    "\n",
    "                      Please enter your choice: \"\"\")\n",
    "\n",
    "    if choice == \"R\" or choice ==\"r\":\n",
    "        enternameofpdbfile()\n",
    "    elif choice == \"S\" or choice ==\"s\":\n",
    "        searchforapdbfile()\n",
    "    elif choice == \"W\" or choice ==\"w\":\n",
    "        readinpdbfiles()\n",
    "    elif choice==\"I\" or choice==\"i\":\n",
    "        givealistofpdbfiles()\n",
    "    elif choice==\"Q\" or choice==\"q\":\n",
    "        sys.exit\n",
    "    else:\n",
    "        print(\"You must only enter R,S,W or I\")\n",
    "        print(\"Please try again\")\n",
    "        #menu()"
   ]
  },
  {
   "cell_type": "code",
   "execution_count": null,
   "metadata": {},
   "outputs": [
    {
     "name": "stdout",
     "output_type": "stream",
     "text": [
      "************MAIN MENU**************\n",
      "\n"
     ]
    }
   ],
   "source": [
    "import sys\n",
    "\n",
    "print(\"************MAIN MENU**************\")\n",
    "    #time.sleep(1)\n",
    "print()\n",
    "\n",
    "choice = input(\"\"\"\n",
    "                    R: Enter name of a PDB file \n",
    "                    S: Search for PDB files\n",
    "                    W: Write out PDB files (PDB files in existence) \n",
    "                    I: Information on PDB files\n",
    "                    A: Alignment\n",
    "                    H: Help\n",
    "                    Q: Quit\n",
    "\n",
    "                    Please enter your choice: \"\"\")\n",
    "\n",
    "if choice == \"R\" or choice ==\"r\":\n",
    "    'Enter name of pdb file()'\n",
    "elif choice == \"S\" or choice ==\"s\":\n",
    "    'Search for a pdb file()'\n",
    "elif choice == \"W\" or choice ==\"w\":\n",
    "    'Read in pdb files()'\n",
    "elif choice==\"I\" or choice==\"i\":\n",
    "    'Give a list of pdb files()'\n",
    "elif choice==\"Q\" or choice==\"q\":\n",
    "    sys.exit\n",
    "else:\n",
    "    print(\"You must only enter R,S,W or I\")\n",
    "    print(\"Please try again\")\n",
    "    choice = input(\"Please enter your choice: \")"
   ]
  },
  {
   "cell_type": "code",
   "execution_count": null,
   "metadata": {},
   "outputs": [],
   "source": []
  },
  {
   "cell_type": "code",
   "execution_count": null,
   "metadata": {},
   "outputs": [],
   "source": []
  }
 ],
 "metadata": {
  "kernelspec": {
   "display_name": "Python 3",
   "language": "python",
   "name": "python3"
  },
  "language_info": {
   "codemirror_mode": {
    "name": "ipython",
    "version": 3
   },
   "file_extension": ".py",
   "mimetype": "text/x-python",
   "name": "python",
   "nbconvert_exporter": "python",
   "pygments_lexer": "ipython3",
   "version": "3.7.4"
  }
 },
 "nbformat": 4,
 "nbformat_minor": 4
}
