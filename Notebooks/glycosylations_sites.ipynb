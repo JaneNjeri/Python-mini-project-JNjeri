{
 "cells": [
  {
   "cell_type": "code",
   "execution_count": 2,
   "metadata": {},
   "outputs": [
    {
     "name": "stdout",
     "output_type": "stream",
     "text": [
      "<re.Match object; span=(15, 19), match='GAPT'>\n",
      "<re.Match object; span=(36, 40), match='YAPT'>\n",
      "<re.Match object; span=(57, 61), match='LAPT'>\n",
      "<re.Match object; span=(66, 70), match='YAFT'>\n",
      "<re.Match object; span=(79, 83), match='GAWG'>\n"
     ]
    }
   ],
   "source": [
    "#!/usr/bin/env python\n",
    "#Python regular expression patterns\n",
    "#The script identifies any of the glycosylations sites\n",
    "#Matching some patterned re expression\n",
    "\n",
    "import re\n",
    "aminoacid  = 'TRIMDYIIYRFLLIFGAPTMALFVLTKAYPFLQNYGYAPTLNIPITGSMDTVYSNSTLAPTREEIFYAFTLTSTLCLYYGAWGP'\n",
    "\n",
    "pattern = re.compile(r'[GYL]A[PFW][TLVGMT]') #Find patterns starting with G or Y or L then A then P or F or W\n",
    "matches = pattern.finditer(aminoacid)\n",
    "for match in matches:\n",
    "    print(match)"
   ]
  },
  {
   "cell_type": "code",
   "execution_count": 7,
   "metadata": {},
   "outputs": [],
   "source": [
    "def glyc_sites(aa_seq):\n",
    "    pattern = re.compile(r'[GYL]A[PFW][TLVGMT]')\n",
    "    matches = pattern.finditer(aa_seq)\n",
    "    for match in matches:\n",
    "        print(match)\n",
    "        \n",
    "    return aa_seq"
   ]
  },
  {
   "cell_type": "code",
   "execution_count": 10,
   "metadata": {},
   "outputs": [
    {
     "name": "stdout",
     "output_type": "stream",
     "text": [
      "<re.Match object; span=(15, 19), match='GAPT'>\n",
      "<re.Match object; span=(36, 40), match='YAPT'>\n",
      "<re.Match object; span=(57, 61), match='LAPT'>\n",
      "<re.Match object; span=(66, 70), match='YAFT'>\n",
      "<re.Match object; span=(79, 83), match='GAWG'>\n"
     ]
    },
    {
     "data": {
      "text/plain": [
       "'TRIMDYIIYRFLLIFGAPTMALFVLTKAYPFLQNYGYAPTLNIPITGSMDTVYSNSTLAPTREEIFYAFTLTSTLCLYYGAWGP'"
      ]
     },
     "execution_count": 10,
     "metadata": {},
     "output_type": "execute_result"
    }
   ],
   "source": [
    "glyc_sites('TRIMDYIIYRFLLIFGAPTMALFVLTKAYPFLQNYGYAPTLNIPITGSMDTVYSNSTLAPTREEIFYAFTLTSTLCLYYGAWGP')"
   ]
  },
  {
   "cell_type": "code",
   "execution_count": 45,
   "metadata": {},
   "outputs": [],
   "source": [
    "def pdb_seq_list(infile):\n",
    "    with open(infile,'r') as file:\n",
    "        for line in file:\n",
    "            if line.startswith('SEQRES'):\n",
    "                line_split = line.split()\n",
    "                chain = line_split[2]\n",
    "                print(line_split)\n",
    "\n",
    "    return line_split[:,[4,16]]"
   ]
  },
  {
   "cell_type": "code",
   "execution_count": 46,
   "metadata": {},
   "outputs": [
    {
     "name": "stdout",
     "output_type": "stream",
     "text": [
      "['SEQRES', '1', 'A', '891', 'MET', 'GLY', 'SER', 'SER', 'HIS', 'HIS', 'HIS', 'HIS', 'HIS', 'HIS', 'SER', 'SER', 'GLY']\n",
      "['SEQRES', '2', 'A', '891', 'GLU', 'ASN', 'LEU', 'TYR', 'PHE', 'GLN', 'GLY', 'HIS', 'MET', 'THR', 'GLN', 'GLN', 'PRO']\n",
      "['SEQRES', '3', 'A', '891', 'GLN', 'ALA', 'LYS', 'TYR', 'ARG', 'HIS', 'ASP', 'TYR', 'ARG', 'ALA', 'PRO', 'ASP', 'TYR']\n",
      "['SEQRES', '4', 'A', '891', 'GLN', 'ILE', 'THR', 'ASP', 'ILE', 'ASP', 'LEU', 'THR', 'PHE', 'ASP', 'LEU', 'ASP', 'ALA']\n",
      "['SEQRES', '5', 'A', '891', 'GLN', 'LYS', 'THR', 'VAL', 'VAL', 'THR', 'ALA', 'VAL', 'SER', 'GLN', 'ALA', 'VAL', 'ARG']\n",
      "['SEQRES', '6', 'A', '891', 'HIS', 'GLY', 'ALA', 'SER', 'ASP', 'ALA', 'PRO', 'LEU', 'ARG', 'LEU', 'ASN', 'GLY', 'GLU']\n",
      "['SEQRES', '7', 'A', '891', 'ASP', 'LEU', 'LYS', 'LEU', 'VAL', 'SER', 'VAL', 'HIS', 'ILE', 'ASN', 'ASP', 'GLU', 'PRO']\n",
      "['SEQRES', '8', 'A', '891', 'TRP', 'THR', 'ALA', 'TRP', 'LYS', 'GLU', 'GLU', 'GLU', 'GLY', 'ALA', 'LEU', 'VAL', 'ILE']\n",
      "['SEQRES', '9', 'A', '891', 'SER', 'ASN', 'LEU', 'PRO', 'GLU', 'ARG', 'PHE', 'THR', 'LEU', 'LYS', 'ILE', 'ILE', 'ASN']\n",
      "['SEQRES', '10', 'A', '891', 'GLU', 'ILE', 'SER', 'PRO', 'ALA', 'ALA', 'ASN', 'THR', 'ALA', 'LEU', 'GLU', 'GLY', 'LEU']\n",
      "['SEQRES', '11', 'A', '891', 'TYR', 'GLN', 'SER', 'GLY', 'ASP', 'ALA', 'LEU', 'CYS', 'THR', 'GLN', 'CYS', 'GLU', 'ALA']\n",
      "['SEQRES', '12', 'A', '891', 'GLU', 'GLY', 'PHE', 'ARG', 'HIS', 'ILE', 'THR', 'TYR', 'TYR', 'LEU', 'ASP', 'ARG', 'PRO']\n",
      "['SEQRES', '13', 'A', '891', 'ASP', 'VAL', 'LEU', 'ALA', 'ARG', 'PHE', 'THR', 'THR', 'LYS', 'ILE', 'ILE', 'ALA', 'ASP']\n",
      "['SEQRES', '14', 'A', '891', 'LYS', 'ILE', 'LYS', 'TYR', 'PRO', 'PHE', 'LEU', 'LEU', 'SER', 'ASN', 'GLY', 'ASN', 'ARG']\n",
      "['SEQRES', '15', 'A', '891', 'VAL', 'ALA', 'GLN', 'GLY', 'GLU', 'LEU', 'GLU', 'ASN', 'GLY', 'ARG', 'HIS', 'TRP', 'VAL']\n",
      "['SEQRES', '16', 'A', '891', 'GLN', 'TRP', 'GLN', 'ASP', 'PRO', 'PHE', 'PRO', 'LYS', 'PRO', 'CYS', 'TYR', 'LEU', 'PHE']\n",
      "['SEQRES', '17', 'A', '891', 'ALA', 'LEU', 'VAL', 'ALA', 'GLY', 'ASP', 'PHE', 'ASP', 'VAL', 'LEU', 'ARG', 'ASP', 'THR']\n",
      "['SEQRES', '18', 'A', '891', 'PHE', 'THR', 'THR', 'ARG', 'SER', 'GLY', 'ARG', 'GLU', 'VAL', 'ALA', 'LEU', 'GLU', 'LEU']\n",
      "['SEQRES', '19', 'A', '891', 'TYR', 'VAL', 'ASP', 'ARG', 'GLY', 'ASN', 'LEU', 'ASP', 'ARG', 'ALA', 'PRO', 'TRP', 'ALA']\n",
      "['SEQRES', '20', 'A', '891', 'MET', 'THR', 'SER', 'LEU', 'LYS', 'ASN', 'SER', 'MET', 'LYS', 'TRP', 'ASP', 'GLU', 'GLU']\n",
      "['SEQRES', '21', 'A', '891', 'ARG', 'PHE', 'GLY', 'LEU', 'GLU', 'TYR', 'ASP', 'LEU', 'ASP', 'ILE', 'TYR', 'MET', 'ILE']\n",
      "['SEQRES', '22', 'A', '891', 'VAL', 'ALA', 'VAL', 'ASP', 'PHE', 'PHE', 'ASN', 'MET', 'GLY', 'ALA', 'MET', 'GLU', 'ASN']\n",
      "['SEQRES', '23', 'A', '891', 'LYS', 'GLY', 'LEU', 'ASN', 'ILE', 'PHE', 'ASN', 'SER', 'LYS', 'TYR', 'VAL', 'LEU', 'ALA']\n",
      "['SEQRES', '24', 'A', '891', 'ARG', 'THR', 'ASP', 'THR', 'ALA', 'THR', 'ASP', 'LYS', 'ASP', 'TYR', 'LEU', 'ASP', 'ILE']\n",
      "['SEQRES', '25', 'A', '891', 'GLU', 'ARG', 'VAL', 'ILE', 'GLY', 'HIS', 'GLU', 'TYR', 'PHE', 'HIS', 'ASN', 'TRP', 'THR']\n",
      "['SEQRES', '26', 'A', '891', 'GLY', 'ASN', 'ARG', 'VAL', 'THR', 'CYS', 'ARG', 'ASP', 'TRP', 'PHE', 'GLN', 'LEU', 'SER']\n",
      "['SEQRES', '27', 'A', '891', 'LEU', 'LYS', 'GLU', 'GLY', 'LEU', 'THR', 'VAL', 'PHE', 'ARG', 'ASP', 'GLN', 'GLU', 'PHE']\n",
      "['SEQRES', '28', 'A', '891', 'SER', 'SER', 'ASP', 'LEU', 'GLY', 'SER', 'ARG', 'ALA', 'VAL', 'ASN', 'ARG', 'ILE', 'ASN']\n",
      "['SEQRES', '29', 'A', '891', 'ASN', 'VAL', 'ARG', 'THR', 'MET', 'ARG', 'GLY', 'LEU', 'GLN', 'PHE', 'ALA', 'GLU', 'ASP']\n",
      "['SEQRES', '30', 'A', '891', 'ALA', 'SER', 'PRO', 'MET', 'ALA', 'HIS', 'PRO', 'ILE', 'ARG', 'PRO', 'ASP', 'MET', 'VAL']\n",
      "['SEQRES', '31', 'A', '891', 'ILE', 'GLU', 'MET', 'ASN', 'ASN', 'PHE', 'TYR', 'THR', 'LEU', 'THR', 'VAL', 'TYR', 'GLU']\n",
      "['SEQRES', '32', 'A', '891', 'LYS', 'GLY', 'ALA', 'GLU', 'VAL', 'ILE', 'ARG', 'MET', 'ILE', 'HIS', 'THR', 'LEU', 'LEU']\n",
      "['SEQRES', '33', 'A', '891', 'GLY', 'GLU', 'GLU', 'ASN', 'PHE', 'GLN', 'LYS', 'GLY', 'MET', 'GLN', 'LEU', 'TYR', 'PHE']\n",
      "['SEQRES', '34', 'A', '891', 'GLU', 'ARG', 'HIS', 'ASP', 'GLY', 'SER', 'ALA', 'ALA', 'THR', 'CYS', 'ASP', 'ASP', 'PHE']\n",
      "['SEQRES', '35', 'A', '891', 'VAL', 'GLN', 'ALA', 'MET', 'GLU', 'ASP', 'ALA', 'SER', 'ASN', 'VAL', 'ASP', 'LEU', 'SER']\n",
      "['SEQRES', '36', 'A', '891', 'HIS', 'PHE', 'ARG', 'ARG', 'TRP', 'TYR', 'SER', 'GLN', 'SER', 'GLY', 'THR', 'PRO', 'ILE']\n",
      "['SEQRES', '37', 'A', '891', 'VAL', 'THR', 'VAL', 'LYS', 'ASP', 'ASP', 'TYR', 'ASN', 'PRO', 'GLU', 'THR', 'GLU', 'GLN']\n",
      "['SEQRES', '38', 'A', '891', 'TYR', 'THR', 'LEU', 'THR', 'ILE', 'SER', 'GLN', 'ARG', 'THR', 'PRO', 'ALA', 'THR', 'PRO']\n",
      "['SEQRES', '39', 'A', '891', 'ASP', 'GLN', 'ALA', 'GLU', 'LYS', 'GLN', 'PRO', 'LEU', 'HIS', 'ILE', 'PRO', 'PHE', 'ALA']\n",
      "['SEQRES', '40', 'A', '891', 'ILE', 'GLU', 'LEU', 'TYR', 'ASP', 'ASN', 'GLU', 'GLY', 'LYS', 'VAL', 'ILE', 'PRO', 'LEU']\n",
      "['SEQRES', '41', 'A', '891', 'GLN', 'LYS', 'GLY', 'GLY', 'HIS', 'PRO', 'VAL', 'ASN', 'SER', 'VAL', 'LEU', 'ASN', 'VAL']\n",
      "['SEQRES', '42', 'A', '891', 'THR', 'GLN', 'ALA', 'GLU', 'GLN', 'THR', 'PHE', 'VAL', 'PHE', 'ASP', 'ASN', 'VAL', 'TYR']\n",
      "['SEQRES', '43', 'A', '891', 'PHE', 'GLN', 'PRO', 'VAL', 'PRO', 'ALA', 'LEU', 'LEU', 'CYS', 'GLU', 'PHE', 'SER', 'ALA']\n",
      "['SEQRES', '44', 'A', '891', 'PRO', 'VAL', 'LYS', 'LEU', 'GLU', 'TYR', 'LYS', 'TRP', 'SER', 'ASP', 'GLN', 'GLN', 'LEU']\n",
      "['SEQRES', '45', 'A', '891', 'THR', 'PHE', 'LEU', 'MET', 'ARG', 'HIS', 'ALA', 'ARG', 'ASN', 'ASP', 'PHE', 'SER', 'ARG']\n",
      "['SEQRES', '46', 'A', '891', 'TRP', 'ASP', 'ALA', 'ALA', 'GLN', 'SER', 'LEU', 'LEU', 'ALA', 'THR', 'TYR', 'ILE', 'LYS']\n",
      "['SEQRES', '47', 'A', '891', 'LEU', 'ASN', 'VAL', 'ALA', 'ARG', 'HIS', 'GLN', 'GLN', 'GLY', 'GLN', 'PRO', 'LEU', 'SER']\n",
      "['SEQRES', '48', 'A', '891', 'LEU', 'PRO', 'VAL', 'HIS', 'VAL', 'ALA', 'ASP', 'ALA', 'PHE', 'ARG', 'ALA', 'VAL', 'LEU']\n",
      "['SEQRES', '49', 'A', '891', 'LEU', 'ASP', 'GLU', 'LYS', 'ILE', 'ASP', 'PRO', 'ALA', 'LEU', 'ALA', 'ALA', 'GLU', 'ILE']\n",
      "['SEQRES', '50', 'A', '891', 'LEU', 'THR', 'LEU', 'PRO', 'SER', 'VAL', 'ASN', 'GLU', 'MET', 'ALA', 'GLU', 'LEU', 'PHE']\n",
      "['SEQRES', '51', 'A', '891', 'ASP', 'ILE', 'ILE', 'ASP', 'PRO', 'ILE', 'ALA', 'ILE', 'ALA', 'GLU', 'VAL', 'ARG', 'GLU']\n",
      "['SEQRES', '52', 'A', '891', 'ALA', 'LEU', 'THR', 'ARG', 'THR', 'LEU', 'ALA', 'THR', 'GLU', 'LEU', 'ALA', 'ASP', 'GLU']\n",
      "['SEQRES', '53', 'A', '891', 'LEU', 'LEU', 'ALA', 'ILE', 'TYR', 'ASN', 'ALA', 'ASN', 'TYR', 'GLN', 'SER', 'GLU', 'TYR']\n",
      "['SEQRES', '54', 'A', '891', 'ARG', 'VAL', 'GLU', 'HIS', 'GLU', 'ASP', 'ILE', 'ALA', 'LYS', 'ARG', 'THR', 'LEU', 'ARG']\n",
      "['SEQRES', '55', 'A', '891', 'ASN', 'ALA', 'CYS', 'LEU', 'ARG', 'PHE', 'LEU', 'ALA', 'PHE', 'GLY', 'GLU', 'THR', 'HIS']\n",
      "['SEQRES', '56', 'A', '891', 'LEU', 'ALA', 'ASP', 'VAL', 'LEU', 'VAL', 'SER', 'LYS', 'GLN', 'PHE', 'HIS', 'GLU', 'ALA']\n",
      "['SEQRES', '57', 'A', '891', 'ASN', 'ASN', 'MET', 'THR', 'ASP', 'ALA', 'LEU', 'ALA', 'ALA', 'LEU', 'SER', 'ALA', 'ALA']\n",
      "['SEQRES', '58', 'A', '891', 'VAL', 'ALA', 'ALA', 'GLN', 'LEU', 'PRO', 'CYS', 'ARG', 'ASP', 'ALA', 'LEU', 'MET', 'GLN']\n",
      "['SEQRES', '59', 'A', '891', 'GLU', 'TYR', 'ASP', 'ASP', 'LYS', 'TRP', 'HIS', 'GLN', 'ASN', 'GLY', 'LEU', 'VAL', 'MET']\n",
      "['SEQRES', '60', 'A', '891', 'ASP', 'LYS', 'TRP', 'PHE', 'ILE', 'LEU', 'GLN', 'ALA', 'THR', 'SER', 'PRO', 'ALA', 'ALA']\n",
      "['SEQRES', '61', 'A', '891', 'ASN', 'VAL', 'LEU', 'GLU', 'THR', 'VAL', 'ARG', 'GLY', 'LEU', 'LEU', 'GLN', 'HIS', 'ARG']\n",
      "['SEQRES', '62', 'A', '891', 'SER', 'PHE', 'THR', 'MET', 'SER', 'ASN', 'PRO', 'ASN', 'ARG', 'ILE', 'ARG', 'SER', 'LEU']\n",
      "['SEQRES', '63', 'A', '891', 'ILE', 'GLY', 'ALA', 'PHE', 'ALA', 'GLY', 'SER', 'ASN', 'PRO', 'ALA', 'ALA', 'PHE', 'HIS']\n",
      "['SEQRES', '64', 'A', '891', 'ALA', 'GLU', 'ASP', 'GLY', 'SER', 'GLY', 'TYR', 'LEU', 'PHE', 'LEU', 'VAL', 'GLU', 'MET']\n",
      "['SEQRES', '65', 'A', '891', 'LEU', 'THR', 'ASP', 'LEU', 'ASN', 'SER', 'ARG', 'ASN', 'PRO', 'GLN', 'VAL', 'ALA', 'SER']\n",
      "['SEQRES', '66', 'A', '891', 'ARG', 'LEU', 'ILE', 'GLU', 'PRO', 'LEU', 'ILE', 'ARG', 'LEU', 'LYS', 'ARG', 'TYR', 'ASP']\n",
      "['SEQRES', '67', 'A', '891', 'ALA', 'LYS', 'ARG', 'GLN', 'GLU', 'LYS', 'MET', 'ARG', 'ALA', 'ALA', 'LEU', 'GLU', 'GLN']\n",
      "['SEQRES', '68', 'A', '891', 'LEU', 'LYS', 'GLY', 'LEU', 'GLU', 'ASN', 'LEU', 'SER', 'GLY', 'ASP', 'LEU', 'TYR', 'GLU']\n",
      "['SEQRES', '69', 'A', '891', 'LYS', 'ILE', 'THR', 'LYS', 'ALA', 'LEU', 'ALA']\n"
     ]
    }
   ],
   "source": [
    "pdb_seq_list('3b3b.pdb')"
   ]
  },
  {
   "cell_type": "code",
   "execution_count": null,
   "metadata": {},
   "outputs": [],
   "source": []
  }
 ],
 "metadata": {
  "kernelspec": {
   "display_name": "Python 3",
   "language": "python",
   "name": "python3"
  },
  "language_info": {
   "codemirror_mode": {
    "name": "ipython",
    "version": 3
   },
   "file_extension": ".py",
   "mimetype": "text/x-python",
   "name": "python",
   "nbconvert_exporter": "python",
   "pygments_lexer": "ipython3",
   "version": "3.7.4"
  }
 },
 "nbformat": 4,
 "nbformat_minor": 4
}
