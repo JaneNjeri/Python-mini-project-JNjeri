{
 "cells": [
  {
   "cell_type": "code",
   "execution_count": 3,
   "metadata": {},
   "outputs": [],
   "source": [
    "def Help_pdb():\n",
    "    print(\"\"\" The available options:\n",
    "\n",
    "        R: Enter name of a PDB file \n",
    "           This option allows the user to read in PDB files for analysis.\n",
    "           \n",
    "        S: Search for PDB files\n",
    "           This option enables the user to search PDB files that are already loaded for analysis.\n",
    "           It also, reports glycosylation sites in the protein with a given pattern for the motif.\n",
    "           \n",
    "        W: Write out PDB files (PDB files in existence)\n",
    "           Writes out different portions of PDB files, including atomic coordinates and\n",
    "           protein sequences in fasta format.\n",
    "           \n",
    "        I: Information on PDB files\n",
    "           Displays information in the PDB files, in terms of the portions defining the file.\n",
    "           Including, coordinate sequence, SEQRES sequence, alignment sequence, all non-water ligands in \n",
    "           the protein (if any).\n",
    "           \n",
    "        A: Alignment\n",
    "           This option extracts SEQRES sequences from two PDB files and aligns the sequences using the local\n",
    "           alignment algorithm.\n",
    "           \n",
    "        H: Help\n",
    "           Lists all options ands a brief description of each option.\n",
    "           \n",
    "        Q: Quit\n",
    "           Terminates the program.\n",
    "        \"\"\")"
   ]
  },
  {
   "cell_type": "code",
   "execution_count": null,
   "metadata": {},
   "outputs": [],
   "source": []
  }
 ],
 "metadata": {
  "kernelspec": {
   "display_name": "Python 3",
   "language": "python",
   "name": "python3"
  },
  "language_info": {
   "codemirror_mode": {
    "name": "ipython",
    "version": 3
   },
   "file_extension": ".py",
   "mimetype": "text/x-python",
   "name": "python",
   "nbconvert_exporter": "python",
   "pygments_lexer": "ipython3",
   "version": "3.7.4"
  }
 },
 "nbformat": 4,
 "nbformat_minor": 4
}
