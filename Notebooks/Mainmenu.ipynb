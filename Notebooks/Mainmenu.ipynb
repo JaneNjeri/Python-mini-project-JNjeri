{
 "cells": [
  {
   "cell_type": "code",
   "execution_count": 17,
   "metadata": {},
   "outputs": [],
   "source": [
    "#Options to analyze PDB files\n",
    "#import sys allows you to use the sys.exit command to quit/logout of the program\n",
    "\n",
    "def Mainmenu():\n",
    "    \"\"\" This function provides different options for the user to select. \"\"\"\n",
    "    import sys\n",
    "    global path\n",
    "    \n",
    "    m = ''\n",
    "    while m == '':\n",
    "        print(\"************MAIN MENU**************\")\n",
    "\n",
    "        print(\"\"\" Available options \n",
    "                [R]: Enter name of a PDB file \n",
    "                [S]: Search for PDB files\n",
    "                [W]: Write out PDB files (PDB files in existence) \n",
    "                [I]: Information on PDB files\n",
    "                [A]: Alignment\n",
    "                [H]: Help\n",
    "                [Q]: Quit\n",
    "            \"\"\")\n",
    "    \n",
    "        choice = input('Please enter your choice: ')\n",
    "        if choice.upper() == 'R':\n",
    "            m = Read_file()\n",
    "        elif choice.upper() == 'S':\n",
    "            m = Search_file()\n",
    "        elif choice.upper() == 'W':\n",
    "            m = Write_file()\n",
    "        elif choice.upper() == 'I':\n",
    "            m = Infor_file()\n",
    "        elif choice.upper() == 'A':\n",
    "            m = Align_2files()\n",
    "        elif choice.upper() == 'H':\n",
    "            m = Help_file()\n",
    "        elif choice.upper() == 'Q':\n",
    "            sys.exit\n",
    "        else:\n",
    "            print('You must only enter R, S, W, I, A, H or Q. Please try again')\n",
    "            choice = input('Please enter your choice: ')\n",
    "    return m"
   ]
  },
  {
   "cell_type": "code",
   "execution_count": null,
   "metadata": {},
   "outputs": [
    {
     "name": "stdout",
     "output_type": "stream",
     "text": [
      "************MAIN MENU**************\n",
      " Available options \n",
      "                [R]: Enter name of a PDB file \n",
      "                [S]: Search for PDB files\n",
      "                [W]: Write out PDB files (PDB files in existence) \n",
      "                [I]: Information on PDB files\n",
      "                [A]: Alignment\n",
      "                [H]: Help\n",
      "                [Q]: Quit\n",
      "            \n"
     ]
    }
   ],
   "source": [
    "Mainmenu()"
   ]
  },
  {
   "cell_type": "code",
   "execution_count": null,
   "metadata": {},
   "outputs": [],
   "source": []
  }
 ],
 "metadata": {
  "kernelspec": {
   "display_name": "Python 3",
   "language": "python",
   "name": "python3"
  },
  "language_info": {
   "codemirror_mode": {
    "name": "ipython",
    "version": 3
   },
   "file_extension": ".py",
   "mimetype": "text/x-python",
   "name": "python",
   "nbconvert_exporter": "python",
   "pygments_lexer": "ipython3",
   "version": "3.7.4"
  }
 },
 "nbformat": 4,
 "nbformat_minor": 4
}
