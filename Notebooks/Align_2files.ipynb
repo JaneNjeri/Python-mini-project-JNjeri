{
 "cells": [
  {
   "cell_type": "code",
   "execution_count": 1,
   "metadata": {},
   "outputs": [],
   "source": [
    "def Menu():\n",
    "    print(\"\"\"Select an option\n",
    "         [R] = Enter name of a PDB file \n",
    "         [S] = Search for PDB files\n",
    "         [W] = Write out PDB files (PDB files in existence) \n",
    "         [I] = Information on PDB files\n",
    "         [A] = Alignment\n",
    "         [H] = Help\n",
    "         [Q] = Quit           \n",
    "         \"\"\")\n",
    "    globals()['option'] = input()"
   ]
  },
  {
   "cell_type": "code",
   "execution_count": 2,
   "metadata": {},
   "outputs": [
    {
     "name": "stdout",
     "output_type": "stream",
     "text": [
      "Select an option\n",
      "         [R] = Enter name of a PDB file \n",
      "         [S] = Search for PDB files\n",
      "         [W] = Write out PDB files (PDB files in existence) \n",
      "         [I] = Information on PDB files\n",
      "         [A] = Alignment\n",
      "         [H] = Help\n",
      "         [Q] = Quit           \n",
      "         \n"
     ]
    },
    {
     "name": "stdin",
     "output_type": "stream",
     "text": [
      " a\n"
     ]
    }
   ],
   "source": [
    "Menu()"
   ]
  },
  {
   "cell_type": "code",
   "execution_count": 3,
   "metadata": {},
   "outputs": [],
   "source": [
    "def pdbfile_list():\n",
    "    \"\"\" This function finds all loaded files in the appropriate folder. \"\"\"\n",
    "    import glob, os\n",
    "    os.chdir(\"../Data\")\n",
    "    file_list = []\n",
    "    for file in glob.glob(\"*.pdb\"):\n",
    "        file_list.append(file)\n",
    "    return file_list"
   ]
  },
  {
   "cell_type": "code",
   "execution_count": 4,
   "metadata": {},
   "outputs": [],
   "source": [
    "def extract_SEQRES_seq():\n",
    "    \"\"\" This function extracts seqres sequences in a pdb file. \"\"\"\n",
    "    \n",
    "    import os\n",
    "    choice = input('Enter the name of the file: ')\n",
    "    filepath = os.path.join('/home/njesh/python-mini-project-JaneNjeri/Data', choice)\n",
    "    with open(filepath,'r') as file:\n",
    "        seq_list = []\n",
    "        for line in file:\n",
    "            if line[:6] == 'SEQRES':\n",
    "                line_split = line.split()[4:]\n",
    "                seq_list.append(line_split)\n",
    "    choice1 = input('Enter name of the outfile, to keep sequences for alignment: ')            \n",
    "    filepath1 = os.path.join('/home/njesh/python-mini-project-JaneNjeri/Results', choice1)\n",
    "    with open(filepath1, 'w') as outfile:\n",
    "        for i in seq_list:\n",
    "            outfile.writelines(i)\n",
    "        print('Sequences successfully written!')"
   ]
  },
  {
   "cell_type": "code",
   "execution_count": 7,
   "metadata": {},
   "outputs": [],
   "source": [
    "def Align_2files():\n",
    "    \"\"\" This function aligns two PDB files using local alignment algorithm,\n",
    "        selected by user and outputs the results to a file. \"\"\"\n",
    "    \n",
    "    import os\n",
    "    import sys\n",
    "    pdbfile_list()\n",
    "    \n",
    "    file_list = pdbfile_list()\n",
    "    \n",
    "    items = os.listdir('/home/njesh/python-mini-project-JaneNjeri/Data/')\n",
    "    \n",
    "    file_list = [name for name in items if name.endswith('.pdb')]\n",
    "\n",
    "    for count, fileName in enumerate(file_list, 0):\n",
    "        sys.stdout.write('[%d] %s\\n\\r' % (count, fileName))\n",
    "\n",
    "    choice = int(input('Select the first pdb file[0-%s]: ' % count))\n",
    "    print(file_list[choice])\n",
    "    choice2 = int(input('Select the second pdb file[0-%s]: ' % count))\n",
    "    print(file_list[choice2])\n",
    "            \n",
    "    #extracting seqres sequences\n",
    "    print('Please enter the names of the files, starting with the first one.')\n",
    "    choice = extract_SEQRES_seq()\n",
    "\n",
    "    choice2 = extract_SEQRES_seq()\n",
    "            \n",
    "    #building global alignment\n",
    "    from Bio import pairwise2\n",
    "    from Bio.pairwise2 import format_alignment\n",
    "            \n",
    "    choice = input('Enter the name of the first outfile with the extracted sequences: ')\n",
    "    filepath = os.path.join('/home/njesh/python-mini-project-JaneNjeri/Results', choice)\n",
    "    with open(filepath,'r') as file:\n",
    "        for line in file:\n",
    "            X = line\n",
    "            break\n",
    "                          \n",
    "    choice2 = input('Enter the name of the second outfile with the extracted sequences: ')\n",
    "    filepath2 = os.path.join('/home/njesh/python-mini-project-JaneNjeri/Results', choice2)\n",
    "    with open(filepath2,'r') as file:\n",
    "        for line in file:\n",
    "            Y = line\n",
    "            break\n",
    "                    \n",
    "    alignments = pairwise2.align.localxx(X, Y)\n",
    "    for a in alignments:\n",
    "        print(format_alignment(*a))\n",
    "        break\n",
    "#         Z = format_alignment(*a)\n",
    "                \n",
    "    choice3 = input('Enter the name of the outfile with the alignment: ')\n",
    "    filepath3 = os.path.join('/home/njesh/python-mini-project-JaneNjeri/Results', choice3)\n",
    "    with open(filepath3, 'w') as outfile:\n",
    "        for i in format_alignment(*a):\n",
    "            outfile.writelines(i)\n",
    "            print('All done!')\n",
    "    Mainmenu()"
   ]
  },
  {
   "cell_type": "code",
   "execution_count": 8,
   "metadata": {},
   "outputs": [
    {
     "name": "stdout",
     "output_type": "stream",
     "text": [
      "[0] 4kty.pdb\n",
      "[1] 1mgx.pdb\n",
      "[2] 1qcr.pdb\n",
      "[3] 4mh8.pdb\n",
      "[4] 3b3b.pdb\n",
      "[5] 3k6h.pdb\n",
      "[6] 1ql9.pdb\n",
      "[7] 1hab.pdb\n",
      "\r"
     ]
    },
    {
     "name": "stdin",
     "output_type": "stream",
     "text": [
      "Select the first pdb file[0-7]:  6\n"
     ]
    },
    {
     "name": "stdout",
     "output_type": "stream",
     "text": [
      "1ql9.pdb\n"
     ]
    },
    {
     "name": "stdin",
     "output_type": "stream",
     "text": [
      "Select the second pdb file[0-7]:  1\n"
     ]
    },
    {
     "name": "stdout",
     "output_type": "stream",
     "text": [
      "1mgx.pdb\n",
      "Please enter the names of the files, starting with the first one.\n"
     ]
    },
    {
     "name": "stdin",
     "output_type": "stream",
     "text": [
      "Enter the name of the file:  1ql9.pdb\n",
      "Enter name of the outfile, to keep sequences for alignment:  1ql9_seqres.txt\n"
     ]
    },
    {
     "name": "stdout",
     "output_type": "stream",
     "text": [
      "Sequences successfully written!\n"
     ]
    },
    {
     "name": "stdin",
     "output_type": "stream",
     "text": [
      "Enter the name of the file:  1mgx.pdb\n",
      "Enter name of the outfile, to keep sequences for alignment:  1mgx_seqres.txt\n"
     ]
    },
    {
     "name": "stdout",
     "output_type": "stream",
     "text": [
      "Sequences successfully written!\n"
     ]
    },
    {
     "name": "stdin",
     "output_type": "stream",
     "text": [
      "Enter the name of the first outfile with the extracted sequences:  1ql9_seqres.txt\n",
      "Enter the name of the second outfile with the extracted sequences:  1mgx_seqres.txt\n"
     ]
    },
    {
     "name": "stdout",
     "output_type": "stream",
     "text": [
      "40 TYRGLNVALSERLEUASNSERGLYTYRHISPHECYSGLYGLYSERLEUILEASNASPGLNTRPVALVALSERALAALAHISCYSTYRLYSSERARGILEGLNVALARGLEUGLY-GLU-HISASNILEASNVALLEUGLU-GLYASNGL-U-GLNPHEVALASNALAALALYSILEILELYSHISPROASNPHEASP-ARG-GLUTHRT-YRASNASNASPILEMETLEUILELYSLEUSERSERPROVALLYSLEUASNALAAR-GVALALATHRVALALALEUPROSERSERCYSALAPROALAG-LYTHRGLN-CYSLEUILESERGLYTRPGLYASNTHRLEUSERSERGLYVALASN-GLUPROASPLEULEUGLNCYSLE-UASPALAPROLEULEUP-ROGLNALAASPCYSGLUALASERTYRPROGLYLYSILETHRASPASNMETVALCYSVALGLYPHELEU-GLUGLYGLYLYSASPSERCYSGLNGLYASPSERGLYGLYP--ROVALVALCYSASNGLYGLULEUGLNGLYILEVALSER-T-RPGLYTY-RGLYCYSALALE-UPROASPASNPROGLYVALTYRTH--R-LYSVA-LCYSASNTYRVALASPTRPILEGLNASP\n",
      "   ||         |   |||||      |         ||| |||  |||                                 |                         |  |    | | |       |   || |  ||  |||||| | | |                                             ||| | |     |        |    |||                                       |                 |         |           | ||       |||      ||     ||       |        |           |             |   |     |   |||           | |        |  | |                                       ||  | ||  |  | |         |       |  |                  |       |        |    |          |   | | |    |  |   |        |         |            |  | |||   |     |||||  |         | |||\n",
      " 1 TY---------R---ASNSE------R---------GLY-LYS--LEU---------------------------------C-------------------------G--U---CG-UPH-------E---VA-L--GL-NGLYASN-LEUCG--------------------------------------------UARGCG-U----CY--------S----MET--------------------------------------CG-----------------U---------C-----------GULY------SCYS------SE-----RP-------H--------E----------CG-------------U---C----GU---ALA----------AR-G--------C--G-U---------------------------------------VA--L-PH--E-CG-U---------A-------S--N----------------THR-------C--------G----U----------A---RGTHR----T-HR---C-------GU---------P------------HETRPLYS--GL-----NTYRV--A---------L-ASP\n",
      "  Score=116\n",
      "\n"
     ]
    },
    {
     "name": "stdin",
     "output_type": "stream",
     "text": [
      "Enter the name of the outfile with the alignment:  1ql9_1mgx_algn.txt\n"
     ]
    },
    {
     "name": "stdout",
     "output_type": "stream",
     "text": [
      "Select an option\n",
      "         [R] = Enter name of a PDB file \n",
      "         [S] = Search for PDB files\n",
      "         [W] = Write out PDB files (PDB files in existence) \n",
      "         [I] = Information on PDB files\n",
      "         [A] = Alignment\n",
      "         [H] = Help\n",
      "         [Q] = Quit           \n",
      "         \n"
     ]
    },
    {
     "name": "stdin",
     "output_type": "stream",
     "text": [
      " q\n"
     ]
    }
   ],
   "source": [
    "Align_2pdb_files()"
   ]
  },
  {
   "cell_type": "code",
   "execution_count": null,
   "metadata": {},
   "outputs": [],
   "source": []
  }
 ],
 "metadata": {
  "kernelspec": {
   "display_name": "Python 3",
   "language": "python",
   "name": "python3"
  },
  "language_info": {
   "codemirror_mode": {
    "name": "ipython",
    "version": 3
   },
   "file_extension": ".py",
   "mimetype": "text/x-python",
   "name": "python",
   "nbconvert_exporter": "python",
   "pygments_lexer": "ipython3",
   "version": "3.7.4"
  }
 },
 "nbformat": 4,
 "nbformat_minor": 4
}
