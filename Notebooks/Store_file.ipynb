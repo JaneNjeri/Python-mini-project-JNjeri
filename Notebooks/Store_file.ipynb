{
 "cells": [
  {
   "cell_type": "code",
   "execution_count": null,
   "metadata": {},
   "outputs": [],
   "source": [
    "\"\"\"The module contain the function to enable a user export the pdb file to a different folder with a new name.\"\"\"\n",
    "\n",
    "def Store_file(filepath):\n",
    "    \"\"\"This function exports and stores the current loaded pdb file into a new file in the defined path.\n",
    "    Arguments: User inputs path and the new pdb filename\"\"\"\n",
    "    \n",
    "    import os\n",
    "    out_path = input (\"\"\"\n",
    "     Enter an authentic path to your file destination and the new filename.pdb \n",
    "     :\"\"\")\n",
    "\n",
    "    # Split the path to obtain the file directory and new filename\n",
    "    out_path1 = out_path.split(\"/\")\n",
    "    directory = \"/\".join(out_path1[:-1])\n",
    "    filename = out_path1[-1]\n",
    "\n",
    "    name_tag = False\n",
    "    # Checking if path exists\n",
    "    if os.path.isdir(directory):\n",
    " \n",
    "        extension = filename.split(\".\")\n",
    "\n",
    "        if len(extension) == 1: # checking if the extention is included\n",
    "            filename = filename + \".pdb\"\n",
    "            out_path = directory + \"/\" + filename\n",
    "            name_tag = True\n",
    "\n",
    "        else:\n",
    "            if len(extension) == 2 and extension[-1] == 'pdb': # confirm right extension name\n",
    "                name_tag = True\n",
    "            else:\n",
    "                print(\"Check your output filename extension and name it appropriately\")\n",
    "                Store_file(filepath)\n",
    "                \n",
    "        if os.path.exists(out_path):\n",
    "            print('The file %s exists!' %out_path)\n",
    "            Store_file(filepath)\n",
    "\n",
    "        if name_tag:\n",
    "            #open file for writing and export\n",
    "            with open(out_path, \"w\") as myfile:\n",
    "\n",
    "                pdbfile = open(filepath,\"r\")\n",
    "                for line in pdbfile:\n",
    "                    myfile.write(line) # write to new file\n",
    "\n",
    "                pdbfile.close() \n",
    "\n",
    "                print(\"Successfully exported the pdb file to %s\" %out_path)\n",
    "        \n",
    "    else:\n",
    "        print(\"The directory does not exist \")\n"
   ]
  }
 ],
 "metadata": {
  "kernelspec": {
   "display_name": "Python 3",
   "language": "python",
   "name": "python3"
  },
  "language_info": {
   "codemirror_mode": {
    "name": "ipython",
    "version": 3
   },
   "file_extension": ".py",
   "mimetype": "text/x-python",
   "name": "python",
   "nbconvert_exporter": "python",
   "pygments_lexer": "ipython3",
   "version": "3.7.4"
  }
 },
 "nbformat": 4,
 "nbformat_minor": 4
}
