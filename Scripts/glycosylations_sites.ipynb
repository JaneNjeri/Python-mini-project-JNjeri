{
 "cells": [
  {
   "cell_type": "code",
   "execution_count": null,
   "metadata": {},
   "outputs": [],
   "source": [
    "#!/usr/bin/env python\n",
    "#Python regular expression patterns\n",
    "#This script identifies any of the glycosylations sites in our assignmennt\n",
    "#Match some patterned regular expression\n",
    "\n",
    "\n",
    "aminoacid  = 'TRIMDYIIYRFLLIFGAPTMALFVLTKAYPFLQNYGYAPTLNIPITGSMDTVYSNSTLAPTREEIFYAFTLTSTLCLYYGAWGP'\n",
    "\n",
    "pattern = re.compile(r'[GYL]A[PFW][TLVGMT]') #Find patterns starting with G or Y or L then A then P or F or W\n",
    "matches = pattern.finditer(aminoacid)\n",
    "for match in matches:\n",
    "    print(match)"
   ]
  }
 ],
 "metadata": {
  "kernelspec": {
   "display_name": "Python 3",
   "language": "python",
   "name": "python3"
  },
  "language_info": {
   "codemirror_mode": {
    "name": "ipython",
    "version": 3
   },
   "file_extension": ".py",
   "mimetype": "text/x-python",
   "name": "python",
   "nbconvert_exporter": "python",
   "pygments_lexer": "ipython3",
   "version": "3.7.4"
  }
 },
 "nbformat": 4,
 "nbformat_minor": 4
}
